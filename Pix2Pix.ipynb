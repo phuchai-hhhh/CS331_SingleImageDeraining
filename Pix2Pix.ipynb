{
 "cells": [
  {
   "cell_type": "code",
   "execution_count": 1,
   "metadata": {},
   "outputs": [
    {
     "name": "stdout",
     "output_type": "stream",
     "text": [
      "Collecting h5py\n",
      "  Downloading h5py-3.12.1-cp311-cp311-manylinux_2_17_x86_64.manylinux2014_x86_64.whl.metadata (2.5 kB)\n",
      "Requirement already satisfied: numpy>=1.19.3 in /opt/conda/lib/python3.11/site-packages (from h5py) (2.1.2)\n",
      "Downloading h5py-3.12.1-cp311-cp311-manylinux_2_17_x86_64.manylinux2014_x86_64.whl (5.5 MB)\n",
      "\u001b[2K   \u001b[90m━━━━━━━━━━━━━━━━━━━━━━━━━━━━━━━━━━━━━━━━\u001b[0m \u001b[32m5.5/5.5 MB\u001b[0m \u001b[31m30.3 MB/s\u001b[0m eta \u001b[36m0:00:00\u001b[0ma \u001b[36m0:00:01\u001b[0m\n",
      "Installing collected packages: h5py\n",
      "Successfully installed h5py-3.12.1\n",
      "\u001b[33mWARNING: Running pip as the 'root' user can result in broken permissions and conflicting behaviour with the system package manager, possibly rendering your system unusable.It is recommended to use a virtual environment instead: https://pip.pypa.io/warnings/venv. Use the --root-user-action option if you know what you are doing and want to suppress this warning.\u001b[0m\u001b[33m\n",
      "Collecting scikit-learn\n",
      "  Downloading scikit_learn-1.5.2-cp311-cp311-manylinux_2_17_x86_64.manylinux2014_x86_64.whl.metadata (13 kB)\n",
      "Requirement already satisfied: numpy>=1.19.5 in /opt/conda/lib/python3.11/site-packages (from scikit-learn) (2.1.2)\n",
      "Collecting scipy>=1.6.0 (from scikit-learn)\n",
      "  Downloading scipy-1.14.1-cp311-cp311-manylinux_2_17_x86_64.manylinux2014_x86_64.whl.metadata (60 kB)\n",
      "Collecting joblib>=1.2.0 (from scikit-learn)\n",
      "  Downloading joblib-1.4.2-py3-none-any.whl.metadata (5.4 kB)\n",
      "Collecting threadpoolctl>=3.1.0 (from scikit-learn)\n",
      "  Downloading threadpoolctl-3.5.0-py3-none-any.whl.metadata (13 kB)\n",
      "Downloading scikit_learn-1.5.2-cp311-cp311-manylinux_2_17_x86_64.manylinux2014_x86_64.whl (13.3 MB)\n",
      "\u001b[2K   \u001b[90m━━━━━━━━━━━━━━━━━━━━━━━━━━━━━━━━━━━━━━━━\u001b[0m \u001b[32m13.3/13.3 MB\u001b[0m \u001b[31m69.8 MB/s\u001b[0m eta \u001b[36m0:00:00\u001b[0m00:01\u001b[0m\n",
      "\u001b[?25hDownloading joblib-1.4.2-py3-none-any.whl (301 kB)\n",
      "Downloading scipy-1.14.1-cp311-cp311-manylinux_2_17_x86_64.manylinux2014_x86_64.whl (41.2 MB)\n",
      "\u001b[2K   \u001b[90m━━━━━━━━━━━━━━━━━━━━━━━━━━━━━━━━━━━━━━━━\u001b[0m \u001b[32m41.2/41.2 MB\u001b[0m \u001b[31m84.1 MB/s\u001b[0m eta \u001b[36m0:00:00\u001b[0ma \u001b[36m0:00:01\u001b[0m\n",
      "\u001b[?25hDownloading threadpoolctl-3.5.0-py3-none-any.whl (18 kB)\n",
      "Installing collected packages: threadpoolctl, scipy, joblib, scikit-learn\n",
      "Successfully installed joblib-1.4.2 scikit-learn-1.5.2 scipy-1.14.1 threadpoolctl-3.5.0\n",
      "\u001b[33mWARNING: Running pip as the 'root' user can result in broken permissions and conflicting behaviour with the system package manager, possibly rendering your system unusable.It is recommended to use a virtual environment instead: https://pip.pypa.io/warnings/venv. Use the --root-user-action option if you know what you are doing and want to suppress this warning.\u001b[0m\u001b[33m\n",
      "\u001b[0m"
     ]
    }
   ],
   "source": [
    "!pip install h5py\n",
    "!pip install scikit-learn"
   ]
  },
  {
   "cell_type": "code",
   "execution_count": 2,
   "metadata": {
    "_kg_hide-input": true,
    "scrolled": true
   },
   "outputs": [],
   "source": [
    "import h5py\n",
    "import torch\n",
    "from torch.utils.data import Dataset, DataLoader\n",
    "from torch import optim\n",
    "from torch.optim import AdamW\n",
    "from tqdm import tqdm\n",
    "from torchvision.transforms import ToTensor, ToPILImage\n",
    "from torchvision.utils import save_image\n",
    "from PIL import Image\n",
    "import os\n",
    "import numpy as np\n",
    "from sklearn.model_selection import train_test_split\n",
    "\n",
    "from torchvision import transforms\n",
    "\n",
    "class RainDataset(Dataset):\n",
    "    def __init__(self, input_paths, target_paths):\n",
    "        super().__init__()\n",
    "        self.input_paths = input_paths\n",
    "        self.target_paths = target_paths\n",
    "        self.transform = transforms.Compose([\n",
    "            transforms.ToTensor(),\n",
    "            transforms.Resize((256, 256)),\n",
    "        ])\n",
    "        \n",
    "    def __len__(self):\n",
    "        return len(self.input_paths)\n",
    "    \n",
    "    def __getitem__(self, idx):\n",
    "        input_image = Image.open(self.input_paths[idx]).convert(\"RGB\")\n",
    "        target_image = Image.open(self.target_paths[idx]).convert(\"RGB\")\n",
    "        \n",
    "        input_image = self.transform(input_image)\n",
    "        target_image = self.transform(target_image)\n",
    "        return input_image, target_image\n"
   ]
  },
  {
   "cell_type": "code",
   "execution_count": 3,
   "metadata": {},
   "outputs": [],
   "source": [
    "import torch\n",
    "from torch import nn\n",
    "\n",
    "class GeneratorLoss(nn.Module):\n",
    "    def __init__(self, alpha=100):\n",
    "        super().__init__()\n",
    "        self.alpha=alpha\n",
    "        self.bce=nn.BCEWithLogitsLoss()\n",
    "        self.l1=nn.L1Loss()\n",
    "        \n",
    "    def forward(self, fake, real, fake_pred):\n",
    "        fake_target = torch.ones_like(fake_pred)\n",
    "        loss = self.bce(fake_pred, fake_target) + self.alpha* self.l1(fake, real)\n",
    "        return loss\n",
    "    \n",
    "    \n",
    "class DiscriminatorLoss(nn.Module):\n",
    "    def __init__(self,):\n",
    "        super().__init__()\n",
    "        self.loss_fn = nn.BCEWithLogitsLoss()\n",
    "        \n",
    "    def forward(self, fake_pred, real_pred):\n",
    "        fake_target = torch.zeros_like(fake_pred)\n",
    "        real_target = torch.ones_like(real_pred)\n",
    "        fake_loss = self.loss_fn(fake_pred, fake_target)\n",
    "        real_loss = self.loss_fn(real_pred, real_target)\n",
    "        loss = (fake_loss + real_loss)/2\n",
    "        return loss"
   ]
  },
  {
   "cell_type": "code",
   "execution_count": 4,
   "metadata": {},
   "outputs": [],
   "source": [
    "import torch\n",
    "from torch import nn\n",
    "from torch.nn import functional as F\n",
    "\n",
    "        \n",
    "class BasicBlock(nn.Module):\n",
    "    \"\"\"Basic block\"\"\"\n",
    "    def __init__(self, inplanes, outplanes, kernel_size=4, stride=2, padding=1, norm=True):\n",
    "        super().__init__()\n",
    "        self.conv = nn.Conv2d(inplanes, outplanes, kernel_size, stride, padding)\n",
    "        self.isn = None\n",
    "        if norm:\n",
    "            self.isn = nn.InstanceNorm2d(outplanes)\n",
    "        self.lrelu = nn.LeakyReLU(0.2, inplace=True)\n",
    "        \n",
    "    def forward(self, x):\n",
    "        fx = self.conv(x)\n",
    "        \n",
    "        if self.isn is not None:\n",
    "            fx = self.isn(fx)\n",
    "            \n",
    "        fx = self.lrelu(fx)\n",
    "        return fx\n",
    "    \n",
    "    \n",
    "class Discriminator(nn.Module):\n",
    "    \"\"\"Basic Discriminator\"\"\"\n",
    "    def __init__(self,):\n",
    "        super().__init__()\n",
    "        self.block1 = BasicBlock(3, 64, norm=False)\n",
    "        self.block2 = BasicBlock(64, 128)\n",
    "        self.block3 = BasicBlock(128, 256)\n",
    "        self.block4 = BasicBlock(256, 512)\n",
    "        self.block5 = nn.Conv2d(512, 1, kernel_size=4, stride=1, padding=1)\n",
    "        \n",
    "    def forward(self, x):\n",
    "        fx = self.block1(x)\n",
    "        fx = self.block2(fx)\n",
    "        fx = self.block3(fx)\n",
    "        fx = self.block4(fx)\n",
    "        fx = self.block5(fx)\n",
    "        \n",
    "        return fx\n",
    "    \n",
    "    \n",
    "class ConditionalDiscriminator(nn.Module):\n",
    "    \"\"\"Conditional Discriminator\"\"\"\n",
    "    def __init__(self,):\n",
    "        super().__init__()\n",
    "        self.block1 = BasicBlock(6, 64, norm=False)\n",
    "        self.block2 = BasicBlock(64, 128)\n",
    "        self.block3 = BasicBlock(128, 256)\n",
    "        self.block4 = BasicBlock(256, 512)\n",
    "        self.block5 = nn.Conv2d(512, 1, kernel_size=4, stride=1, padding=1)\n",
    "        \n",
    "    def forward(self, x, cond):\n",
    "        x = torch.cat([x, cond], dim=1)\n",
    "\n",
    "        fx = self.block1(x)\n",
    "        fx = self.block2(fx)\n",
    "        fx = self.block3(fx)\n",
    "        fx = self.block4(fx)\n",
    "        fx = self.block5(fx)\n",
    "        \n",
    "        return fx"
   ]
  },
  {
   "cell_type": "code",
   "execution_count": 5,
   "metadata": {},
   "outputs": [],
   "source": [
    "import torch\n",
    "from torch import nn\n",
    "from torch.nn import functional as F\n",
    "\n",
    "\n",
    "class EncoderBlock(nn.Module):\n",
    "    \"\"\"Encoder block\"\"\"\n",
    "    def __init__(self, inplanes, outplanes, kernel_size=4, stride=2, padding=1, norm=True):\n",
    "        super().__init__()\n",
    "        self.lrelu = nn.LeakyReLU(0.2, inplace=True)\n",
    "        self.conv = nn.Conv2d(inplanes, outplanes, kernel_size, stride, padding)\n",
    "        \n",
    "        self.bn=None\n",
    "        if norm:\n",
    "            self.bn = nn.BatchNorm2d(outplanes)\n",
    "        \n",
    "    def forward(self, x):\n",
    "        fx = self.lrelu(x)\n",
    "        fx = self.conv(fx)\n",
    "        \n",
    "        if self.bn is not None:\n",
    "            fx = self.bn(fx)\n",
    "            \n",
    "        return fx\n",
    "\n",
    "    \n",
    "class DecoderBlock(nn.Module):\n",
    "    \"\"\"Decoder block\"\"\"\n",
    "    def __init__(self, inplanes, outplanes, kernel_size=4, stride=2, padding=1, dropout=False):\n",
    "        super().__init__()\n",
    "        self.relu = nn.ReLU(inplace=True)\n",
    "        self.deconv = nn.ConvTranspose2d(inplanes, outplanes, kernel_size, stride, padding)\n",
    "        self.bn = nn.BatchNorm2d(outplanes)       \n",
    "        \n",
    "        self.dropout=None\n",
    "        if dropout:\n",
    "            self.dropout = nn.Dropout2d(p=0.5, inplace=True)\n",
    "            \n",
    "    def forward(self, x):\n",
    "        fx = self.relu(x)\n",
    "        fx = self.deconv(fx)\n",
    "        fx = self.bn(fx)\n",
    "\n",
    "        if self.dropout is not None:\n",
    "            fx = self.dropout(fx)\n",
    "            \n",
    "        return fx\n",
    "\n",
    "    \n",
    "class Generator(nn.Module):\n",
    "    \"\"\"Encoder-Decoder model\"\"\"\n",
    "    def __init__(self,):\n",
    "        super().__init__()\n",
    "        \n",
    "        self.encoder1 = nn.Conv2d(3, 64, kernel_size=4, stride=2, padding=1)\n",
    "        self.encoder2 = EncoderBlock(64, 128)\n",
    "        self.encoder3 = EncoderBlock(128, 256)\n",
    "        self.encoder4 = EncoderBlock(256, 512)\n",
    "        self.encoder5 = EncoderBlock(512, 512)\n",
    "        self.encoder6 = EncoderBlock(512, 512)\n",
    "        self.encoder7 = EncoderBlock(512, 512)\n",
    "        self.encoder8 = EncoderBlock(512, 512, norm=False)\n",
    "        \n",
    "        self.decoder8 = DecoderBlock(512, 512, dropout=True)\n",
    "        self.decoder7 = DecoderBlock(512, 512, dropout=True)\n",
    "        self.decoder6 = DecoderBlock(512, 512, dropout=True)\n",
    "        self.decoder5 = DecoderBlock(512, 512)\n",
    "        self.decoder4 = DecoderBlock(512, 256)\n",
    "        self.decoder3 = DecoderBlock(256, 128)\n",
    "        self.decoder2 = DecoderBlock(128, 64)\n",
    "        self.decoder1 = nn.ConvTranspose2d(64, 3, kernel_size=4, stride=2, padding=1)\n",
    "        \n",
    "    def forward(self, x):\n",
    "        e1 = self.encoder1(x)\n",
    "        e2 = self.encoder2(e1)\n",
    "        e3 = self.encoder3(e2)\n",
    "        e4 = self.encoder4(e3)\n",
    "        e5 = self.encoder5(e4)\n",
    "        e6 = self.encoder6(e5)\n",
    "        e7 = self.encoder7(e6)\n",
    "        e8 = self.encoder8(e7)\n",
    "\n",
    "        d8 = self.decoder8(e8)\n",
    "        d7 = self.decoder7(d8)\n",
    "        d6 = self.decoder6(d7)\n",
    "        d5 = self.decoder5(d6)\n",
    "        d4 = self.decoder4(d5)\n",
    "        d3 = self.decoder3(d4)\n",
    "        d2 = F.relu(self.decoder2(d3))\n",
    "        d1 = self.decoder1(d2)\n",
    "        \n",
    "        return torch.tanh(d1)\n",
    "    \n",
    "    \n",
    "class UnetGenerator(nn.Module):\n",
    "    \"\"\"Unet-like Encoder-Decoder model\"\"\"\n",
    "    def __init__(self,):\n",
    "        super().__init__()\n",
    "        \n",
    "        self.encoder1 = nn.Conv2d(3, 64, kernel_size=4, stride=2, padding=1)\n",
    "        self.encoder2 = EncoderBlock(64, 128)\n",
    "        self.encoder3 = EncoderBlock(128, 256)\n",
    "        self.encoder4 = EncoderBlock(256, 512)\n",
    "        self.encoder5 = EncoderBlock(512, 512)\n",
    "        self.encoder6 = EncoderBlock(512, 512)\n",
    "        self.encoder7 = EncoderBlock(512, 512)\n",
    "        self.encoder8 = EncoderBlock(512, 512, norm=False)\n",
    "        \n",
    "        self.decoder8 = DecoderBlock(512, 512, dropout=True)\n",
    "        self.decoder7 = DecoderBlock(2*512, 512, dropout=True)\n",
    "        self.decoder6 = DecoderBlock(2*512, 512, dropout=True)\n",
    "        self.decoder5 = DecoderBlock(2*512, 512)\n",
    "        self.decoder4 = DecoderBlock(2*512, 256)\n",
    "        self.decoder3 = DecoderBlock(2*256, 128)\n",
    "        self.decoder2 = DecoderBlock(2*128, 64)\n",
    "        self.decoder1 = nn.ConvTranspose2d(2*64, 3, kernel_size=4, stride=2, padding=1)\n",
    "        \n",
    "    def forward(self, x):\n",
    "        e1 = self.encoder1(x)\n",
    "        e2 = self.encoder2(e1)\n",
    "        e3 = self.encoder3(e2)\n",
    "        e4 = self.encoder4(e3)\n",
    "        e5 = self.encoder5(e4)\n",
    "        e6 = self.encoder6(e5)\n",
    "        e7 = self.encoder7(e6)\n",
    "        e8 = self.encoder8(e7)\n",
    "\n",
    "        d8 = self.decoder8(e8)\n",
    "        d8 = torch.cat([d8, e7], dim=1)\n",
    "        d7 = self.decoder7(d8)\n",
    "        d7 = torch.cat([d7, e6], dim=1)\n",
    "        d6 = self.decoder6(d7)\n",
    "        d6 = torch.cat([d6, e5], dim=1)\n",
    "        d5 = self.decoder5(d6)\n",
    "        d5 = torch.cat([d5, e4], dim=1)\n",
    "        d4 = self.decoder4(d5)\n",
    "        d4 = torch.cat([d4, e3], dim=1)\n",
    "        d3 = self.decoder3(d4)\n",
    "        d3 = torch.cat([d3, e2], dim=1)\n",
    "        d2 = F.relu(self.decoder2(d3))\n",
    "        d2 = torch.cat([d2, e1], dim=1)\n",
    "        d1 = self.decoder1(d2)\n",
    "        \n",
    "        return torch.tanh(d1)"
   ]
  },
  {
   "cell_type": "code",
   "execution_count": 6,
   "metadata": {},
   "outputs": [],
   "source": [
    "# ============================\n",
    "# Helper functions\n",
    "# ============================\n",
    "def psnr(x, y, data_range=1.0):\n",
    "    mse = torch.mean((x - y) ** 2)\n",
    "    if mse == 0:\n",
    "        return float('inf')\n",
    "    return 20 * torch.log10(data_range / torch.sqrt(mse))\n",
    "\n",
    "\n",
    "def ssim(x, y, kernel_size=11, kernel_sigma=1.5, data_range=1.0, k1=0.01, k2=0.03):\n",
    "    coords = torch.arange(kernel_size, dtype=x.dtype, device=x.device)\n",
    "    coords -= (kernel_size - 1) / 2.0\n",
    "    g = coords ** 2\n",
    "    g = (- (g.unsqueeze(0) + g.unsqueeze(1)) / (2 * kernel_sigma ** 2)).exp()\n",
    "    g /= g.sum()\n",
    "    kernel = g.unsqueeze(0).repeat(x.size(1), 1, 1, 1)\n",
    "\n",
    "    c1, c2 = (k1 * data_range) ** 2, (k2 * data_range) ** 2\n",
    "    n_channels = x.size(1)\n",
    "    mu_x = F.conv2d(x, weight=kernel, stride=1, padding=0, groups=n_channels)\n",
    "    mu_y = F.conv2d(y, weight=kernel, stride=1, padding=0, groups=n_channels)\n",
    "\n",
    "    mu_xx, mu_yy, mu_xy = mu_x ** 2, mu_y ** 2, mu_x * mu_y\n",
    "    sigma_xx = F.conv2d(x ** 2, weight=kernel, stride=1, padding=0, groups=n_channels) - mu_xx\n",
    "    sigma_yy = F.conv2d(y ** 2, weight=kernel, stride=1, padding=0, groups=n_channels) - mu_yy\n",
    "    sigma_xy = F.conv2d(x * y, weight=kernel, stride=1, padding=0, groups=n_channels) - mu_xy\n",
    "\n",
    "    cs = (2.0 * sigma_xy + c2) / (sigma_xx + sigma_yy + c2)\n",
    "    ss = (2.0 * mu_xy + c1) / (mu_xx + mu_yy + c1) * cs\n",
    "    return ss.mean()"
   ]
  },
  {
   "cell_type": "code",
   "execution_count": 7,
   "metadata": {},
   "outputs": [],
   "source": [
    "def train_model(generator, discriminator, dataloader, gen_loss_fn, disc_loss_fn, optimizer_G, optimizer_D, device):\n",
    "    generator.train()\n",
    "    discriminator.train()\n",
    "    \n",
    "    total_gen_loss = 0.0\n",
    "    total_disc_loss = 0.0\n",
    "    num_batches = len(dataloader)\n",
    "    \n",
    "    for inputs, targets in tqdm(dataloader, desc=\"Training\"):\n",
    "        inputs, targets = inputs.to(device), targets.to(device)\n",
    "        \n",
    "        fake_images = generator(inputs)\n",
    "        \n",
    "        optimizer_D.zero_grad()\n",
    "        real_preds = discriminator(targets, inputs)\n",
    "        fake_preds = discriminator(fake_images.detach(), inputs)\n",
    "        disc_loss = disc_loss_fn(fake_preds, real_preds)\n",
    "        disc_loss.backward()\n",
    "        optimizer_D.step()\n",
    "        \n",
    "        optimizer_G.zero_grad()\n",
    "        fake_preds = discriminator(fake_images, inputs)\n",
    "        gen_loss = gen_loss_fn(fake_images, targets, fake_preds)\n",
    "        gen_loss.backward()\n",
    "        optimizer_G.step()\n",
    "        \n",
    "        total_gen_loss += gen_loss.item()\n",
    "        total_disc_loss += disc_loss.item()\n",
    "    \n",
    "    avg_gen_loss = total_gen_loss / num_batches\n",
    "    avg_disc_loss = total_disc_loss / num_batches\n",
    "    \n",
    "    print(f\"Avg Generator Loss: {avg_gen_loss:.4f}, Avg Discriminator Loss: {avg_disc_loss:.4f}\")\n",
    "    return avg_gen_loss, avg_disc_loss\n",
    "\n",
    "def evaluate_model(generator, dataloader, device):\n",
    "    generator.eval()\n",
    "    total_l1_loss = 0.0\n",
    "    total_psnr = 0.0\n",
    "    total_ssim = 0.0\n",
    "    l1_loss_fn = torch.nn.L1Loss()\n",
    "    count=0\n",
    "\n",
    "    with torch.no_grad():\n",
    "        for inputs, targets in tqdm(dataloader, desc=\"Evaluating\"):\n",
    "            inputs, targets = inputs.to(device), targets.to(device)\n",
    "            \n",
    "            fake_images = torch.clamp(generator(inputs), 0, 1)\n",
    "\n",
    "            total_l1_loss += l1_loss_fn(fake_images, targets).item()\n",
    "\n",
    "            total_psnr += psnr(fake_images, targets)\n",
    "            total_ssim += ssim(fake_images, targets)\n",
    "            count += 1\n",
    "\n",
    "    avg_l1_loss = total_l1_loss / count\n",
    "    avg_psnr = total_psnr / count\n",
    "    avg_ssim = total_ssim / count\n",
    "\n",
    "    print(f\"Avg L1 Loss: {avg_l1_loss:.4f}, Avg PSNR: {avg_psnr:.2f}, Avg SSIM: {avg_ssim:.4f}\")\n",
    "    return avg_l1_loss, avg_psnr, avg_ssim"
   ]
  },
  {
   "cell_type": "code",
   "execution_count": 8,
   "metadata": {},
   "outputs": [],
   "source": [
    "data_path = '/train/train/Rain13K'\n",
    "test_size = 0.2\n",
    "learning_rate = 1e-4\n",
    "device = \"cuda\" if torch.cuda.is_available() else \"cpu\"\n",
    "\n",
    "input_folder = os.path.join(data_path, 'input')\n",
    "target_folder = os.path.join(data_path, 'target')\n",
    "\n",
    "input_files = sorted([os.path.join(input_folder, f) for f in os.listdir(input_folder) if f.endswith(('.png', '.jpg', '.jpeg'))])\n",
    "target_files = sorted([os.path.join(target_folder, f) for f in os.listdir(target_folder) if f.endswith(('.png', '.jpg', '.jpeg'))])\n",
    "    \n",
    "train_inputs, test_inputs, train_targets, test_targets = train_test_split(\n",
    "    input_files, target_files, test_size=test_size, random_state=42\n",
    ")\n",
    "\n",
    "train_dataset = RainDataset(train_inputs, train_targets)\n",
    "test_dataset = RainDataset(test_inputs, test_targets)"
   ]
  },
  {
   "cell_type": "code",
   "execution_count": null,
   "metadata": {},
   "outputs": [
    {
     "name": "stdout",
     "output_type": "stream",
     "text": [
      "Testing Batch Size: 32, Alpha: 300\n",
      "Epoch 1/50\n"
     ]
    },
    {
     "name": "stderr",
     "output_type": "stream",
     "text": [
      "\n",
      "raining: 100%|██████████| 343/343 [01:18<00:00,  4.38it/s]"
     ]
    },
    {
     "name": "stdout",
     "output_type": "stream",
     "text": [
      "Avg Generator Loss: 30.8466, Avg Discriminator Loss: 0.4232\n"
     ]
    },
    {
     "name": "stderr",
     "output_type": "stream",
     "text": [
      "\n",
      "valuating: 100%|██████████| 86/86 [00:10<00:00,  8.03it/s]"
     ]
    },
    {
     "name": "stdout",
     "output_type": "stream",
     "text": [
      "Avg L1 Loss: 0.0677, Avg PSNR: 20.78, Avg SSIM: 0.5105\n",
      "Models saved for Batch Size: 32, Alpha: 300, Epoch: 1\n",
      "Epoch 2/50\n"
     ]
    },
    {
     "name": "stderr",
     "output_type": "stream",
     "text": [
      "\n",
      "raining: 100%|██████████| 343/343 [01:19<00:00,  4.34it/s]"
     ]
    },
    {
     "name": "stdout",
     "output_type": "stream",
     "text": [
      "Avg Generator Loss: 20.4083, Avg Discriminator Loss: 0.4514\n"
     ]
    },
    {
     "name": "stderr",
     "output_type": "stream",
     "text": [
      "\n",
      "valuating: 100%|██████████| 86/86 [00:10<00:00,  7.91it/s]"
     ]
    },
    {
     "name": "stdout",
     "output_type": "stream",
     "text": [
      "Avg L1 Loss: 0.0591, Avg PSNR: 21.59, Avg SSIM: 0.5771\n",
      "Epoch 3/50\n"
     ]
    },
    {
     "name": "stderr",
     "output_type": "stream",
     "text": [
      "\n",
      "raining: 100%|██████████| 343/343 [01:19<00:00,  4.30it/s]"
     ]
    },
    {
     "name": "stdout",
     "output_type": "stream",
     "text": [
      "Avg Generator Loss: 19.9867, Avg Discriminator Loss: 0.3695\n"
     ]
    },
    {
     "name": "stderr",
     "output_type": "stream",
     "text": [
      "\n",
      "valuating: 100%|██████████| 86/86 [00:10<00:00,  7.97it/s]"
     ]
    },
    {
     "name": "stdout",
     "output_type": "stream",
     "text": [
      "Avg L1 Loss: 0.0711, Avg PSNR: 20.25, Avg SSIM: 0.5487\n",
      "Epoch 4/50\n"
     ]
    },
    {
     "name": "stderr",
     "output_type": "stream",
     "text": [
      "\n",
      "raining: 100%|██████████| 343/343 [01:18<00:00,  4.35it/s]"
     ]
    },
    {
     "name": "stdout",
     "output_type": "stream",
     "text": [
      "Avg Generator Loss: 19.5950, Avg Discriminator Loss: 0.2925\n"
     ]
    },
    {
     "name": "stderr",
     "output_type": "stream",
     "text": [
      "\n",
      "valuating: 100%|██████████| 86/86 [00:11<00:00,  7.64it/s]"
     ]
    },
    {
     "name": "stdout",
     "output_type": "stream",
     "text": [
      "Avg L1 Loss: 0.0652, Avg PSNR: 21.00, Avg SSIM: 0.5909\n",
      "Epoch 5/50\n"
     ]
    },
    {
     "name": "stderr",
     "output_type": "stream",
     "text": [
      "\n",
      "raining: 100%|██████████| 343/343 [01:18<00:00,  4.35it/s]"
     ]
    },
    {
     "name": "stdout",
     "output_type": "stream",
     "text": [
      "Avg Generator Loss: 18.9079, Avg Discriminator Loss: 0.2897\n"
     ]
    },
    {
     "name": "stderr",
     "output_type": "stream",
     "text": [
      "\n",
      "valuating: 100%|██████████| 86/86 [00:10<00:00,  7.93it/s]"
     ]
    },
    {
     "name": "stdout",
     "output_type": "stream",
     "text": [
      "Avg L1 Loss: 0.0524, Avg PSNR: 22.76, Avg SSIM: 0.6428\n",
      "Models saved for Batch Size: 32, Alpha: 300, Epoch: 5\n",
      "Epoch 6/50\n"
     ]
    },
    {
     "name": "stderr",
     "output_type": "stream",
     "text": [
      "\n",
      "raining: 100%|██████████| 343/343 [01:18<00:00,  4.35it/s]"
     ]
    },
    {
     "name": "stdout",
     "output_type": "stream",
     "text": [
      "Avg Generator Loss: 18.1314, Avg Discriminator Loss: 0.2891\n"
     ]
    },
    {
     "name": "stderr",
     "output_type": "stream",
     "text": [
      "\n",
      "valuating: 100%|██████████| 86/86 [00:10<00:00,  7.95it/s]"
     ]
    },
    {
     "name": "stdout",
     "output_type": "stream",
     "text": [
      "Avg L1 Loss: 0.0596, Avg PSNR: 20.42, Avg SSIM: 0.6779\n",
      "Epoch 7/50\n"
     ]
    },
    {
     "name": "stderr",
     "output_type": "stream",
     "text": [
      "\n",
      "raining: 100%|██████████| 343/343 [01:18<00:00,  4.35it/s]"
     ]
    },
    {
     "name": "stdout",
     "output_type": "stream",
     "text": [
      "Avg Generator Loss: 18.0335, Avg Discriminator Loss: 0.2804\n"
     ]
    },
    {
     "name": "stderr",
     "output_type": "stream",
     "text": [
      "\n",
      "valuating: 100%|██████████| 86/86 [00:10<00:00,  8.06it/s]"
     ]
    },
    {
     "name": "stdout",
     "output_type": "stream",
     "text": [
      "Avg L1 Loss: 0.0524, Avg PSNR: 22.78, Avg SSIM: 0.6630\n",
      "Epoch 8/50\n"
     ]
    },
    {
     "name": "stderr",
     "output_type": "stream",
     "text": [
      "\n",
      "raining: 100%|██████████| 343/343 [01:19<00:00,  4.33it/s]"
     ]
    },
    {
     "name": "stdout",
     "output_type": "stream",
     "text": [
      "Avg Generator Loss: 17.1344, Avg Discriminator Loss: 0.2985\n"
     ]
    },
    {
     "name": "stderr",
     "output_type": "stream",
     "text": [
      "\n",
      "valuating: 100%|██████████| 86/86 [00:11<00:00,  7.74it/s]"
     ]
    },
    {
     "name": "stdout",
     "output_type": "stream",
     "text": [
      "Avg L1 Loss: 0.0467, Avg PSNR: 23.79, Avg SSIM: 0.7288\n",
      "Epoch 9/50\n"
     ]
    },
    {
     "name": "stderr",
     "output_type": "stream",
     "text": [
      "\n",
      "raining: 100%|██████████| 343/343 [01:19<00:00,  4.34it/s]"
     ]
    },
    {
     "name": "stdout",
     "output_type": "stream",
     "text": [
      "Avg Generator Loss: 16.5096, Avg Discriminator Loss: 0.2995\n"
     ]
    },
    {
     "name": "stderr",
     "output_type": "stream",
     "text": [
      "\n",
      "valuating: 100%|██████████| 86/86 [00:10<00:00,  7.95it/s]"
     ]
    },
    {
     "name": "stdout",
     "output_type": "stream",
     "text": [
      "Avg L1 Loss: 0.0439, Avg PSNR: 24.22, Avg SSIM: 0.7062\n",
      "Epoch 10/50\n"
     ]
    },
    {
     "name": "stderr",
     "output_type": "stream",
     "text": [
      "\n",
      "raining: 100%|██████████| 343/343 [01:18<00:00,  4.37it/s]"
     ]
    },
    {
     "name": "stdout",
     "output_type": "stream",
     "text": [
      "Avg Generator Loss: 16.3107, Avg Discriminator Loss: 0.2957\n"
     ]
    },
    {
     "name": "stderr",
     "output_type": "stream",
     "text": [
      "\n",
      "valuating: 100%|██████████| 86/86 [00:11<00:00,  7.74it/s]"
     ]
    },
    {
     "name": "stdout",
     "output_type": "stream",
     "text": [
      "Avg L1 Loss: 0.0461, Avg PSNR: 23.34, Avg SSIM: 0.7487\n",
      "Models saved for Batch Size: 32, Alpha: 300, Epoch: 10\n",
      "Epoch 11/50\n"
     ]
    },
    {
     "name": "stderr",
     "output_type": "stream",
     "text": [
      "\n",
      "raining: 100%|██████████| 343/343 [01:19<00:00,  4.34it/s]"
     ]
    },
    {
     "name": "stdout",
     "output_type": "stream",
     "text": [
      "Avg Generator Loss: 15.7982, Avg Discriminator Loss: 0.3246\n"
     ]
    },
    {
     "name": "stderr",
     "output_type": "stream",
     "text": [
      "\n",
      "valuating: 100%|██████████| 86/86 [00:11<00:00,  7.78it/s]"
     ]
    },
    {
     "name": "stdout",
     "output_type": "stream",
     "text": [
      "Avg L1 Loss: 0.0408, Avg PSNR: 24.70, Avg SSIM: 0.7610\n",
      "Epoch 12/50\n"
     ]
    },
    {
     "name": "stderr",
     "output_type": "stream",
     "text": [
      "\n",
      "raining: 100%|██████████| 343/343 [01:18<00:00,  4.35it/s]"
     ]
    },
    {
     "name": "stdout",
     "output_type": "stream",
     "text": [
      "Avg Generator Loss: 15.9480, Avg Discriminator Loss: 0.2908\n"
     ]
    },
    {
     "name": "stderr",
     "output_type": "stream",
     "text": [
      "\n",
      "valuating: 100%|██████████| 86/86 [00:10<00:00,  7.93it/s]"
     ]
    },
    {
     "name": "stdout",
     "output_type": "stream",
     "text": [
      "Avg L1 Loss: 0.0417, Avg PSNR: 24.44, Avg SSIM: 0.7405\n",
      "Epoch 13/50\n"
     ]
    },
    {
     "name": "stderr",
     "output_type": "stream",
     "text": [
      "\n",
      "raining: 100%|██████████| 343/343 [01:18<00:00,  4.36it/s]"
     ]
    },
    {
     "name": "stdout",
     "output_type": "stream",
     "text": [
      "Avg Generator Loss: 16.2449, Avg Discriminator Loss: 0.2782\n"
     ]
    },
    {
     "name": "stderr",
     "output_type": "stream",
     "text": [
      "\n",
      "valuating: 100%|██████████| 86/86 [00:10<00:00,  7.93it/s]"
     ]
    },
    {
     "name": "stdout",
     "output_type": "stream",
     "text": [
      "Avg L1 Loss: 0.0456, Avg PSNR: 23.60, Avg SSIM: 0.7546\n",
      "Epoch 14/50\n"
     ]
    },
    {
     "name": "stderr",
     "output_type": "stream",
     "text": [
      "\n",
      "raining: 100%|██████████| 343/343 [01:18<00:00,  4.35it/s]"
     ]
    },
    {
     "name": "stdout",
     "output_type": "stream",
     "text": [
      "Avg Generator Loss: 15.4544, Avg Discriminator Loss: 0.3054\n"
     ]
    },
    {
     "name": "stderr",
     "output_type": "stream",
     "text": [
      "\n",
      "valuating: 100%|██████████| 86/86 [00:10<00:00,  7.84it/s]"
     ]
    },
    {
     "name": "stdout",
     "output_type": "stream",
     "text": [
      "Avg L1 Loss: 0.0512, Avg PSNR: 22.26, Avg SSIM: 0.7586\n",
      "Epoch 15/50\n"
     ]
    },
    {
     "name": "stderr",
     "output_type": "stream",
     "text": [
      "\n",
      "raining: 100%|██████████| 343/343 [01:19<00:00,  4.33it/s]"
     ]
    },
    {
     "name": "stdout",
     "output_type": "stream",
     "text": [
      "Avg Generator Loss: 15.5972, Avg Discriminator Loss: 0.2910\n"
     ]
    },
    {
     "name": "stderr",
     "output_type": "stream",
     "text": [
      "\n",
      "valuating: 100%|██████████| 86/86 [00:11<00:00,  7.81it/s]"
     ]
    },
    {
     "name": "stdout",
     "output_type": "stream",
     "text": [
      "Avg L1 Loss: 0.0397, Avg PSNR: 24.83, Avg SSIM: 0.7764\n",
      "Models saved for Batch Size: 32, Alpha: 300, Epoch: 15\n",
      "Epoch 16/50\n"
     ]
    },
    {
     "name": "stderr",
     "output_type": "stream",
     "text": [
      "\n",
      "raining: 100%|██████████| 343/343 [01:19<00:00,  4.34it/s]"
     ]
    },
    {
     "name": "stdout",
     "output_type": "stream",
     "text": [
      "Avg Generator Loss: 15.3925, Avg Discriminator Loss: 0.2934\n"
     ]
    },
    {
     "name": "stderr",
     "output_type": "stream",
     "text": [
      "\n",
      "valuating: 100%|██████████| 86/86 [00:11<00:00,  7.73it/s]"
     ]
    },
    {
     "name": "stdout",
     "output_type": "stream",
     "text": [
      "Avg L1 Loss: 0.0422, Avg PSNR: 23.96, Avg SSIM: 0.7590\n",
      "Epoch 17/50\n"
     ]
    },
    {
     "name": "stderr",
     "output_type": "stream",
     "text": [
      "\n",
      "raining: 100%|██████████| 343/343 [01:19<00:00,  4.34it/s]"
     ]
    },
    {
     "name": "stdout",
     "output_type": "stream",
     "text": [
      "Avg Generator Loss: 15.2345, Avg Discriminator Loss: 0.2882\n"
     ]
    },
    {
     "name": "stderr",
     "output_type": "stream",
     "text": [
      "\n",
      "valuating: 100%|██████████| 86/86 [00:10<00:00,  7.85it/s]"
     ]
    },
    {
     "name": "stdout",
     "output_type": "stream",
     "text": [
      "Avg L1 Loss: 0.0381, Avg PSNR: 25.11, Avg SSIM: 0.7884\n",
      "Epoch 18/50\n"
     ]
    },
    {
     "name": "stderr",
     "output_type": "stream",
     "text": [
      "\n",
      "raining: 100%|██████████| 343/343 [01:19<00:00,  4.32it/s]"
     ]
    },
    {
     "name": "stdout",
     "output_type": "stream",
     "text": [
      "Avg Generator Loss: 15.2209, Avg Discriminator Loss: 0.2892\n"
     ]
    },
    {
     "name": "stderr",
     "output_type": "stream",
     "text": [
      "\n",
      "valuating: 100%|██████████| 86/86 [00:11<00:00,  7.73it/s]"
     ]
    },
    {
     "name": "stdout",
     "output_type": "stream",
     "text": [
      "Avg L1 Loss: 0.0391, Avg PSNR: 25.08, Avg SSIM: 0.7647\n",
      "Epoch 19/50\n"
     ]
    },
    {
     "name": "stderr",
     "output_type": "stream",
     "text": [
      "\n",
      "raining: 100%|██████████| 343/343 [01:19<00:00,  4.33it/s]"
     ]
    },
    {
     "name": "stdout",
     "output_type": "stream",
     "text": [
      "Avg Generator Loss: 15.3707, Avg Discriminator Loss: 0.2704\n"
     ]
    },
    {
     "name": "stderr",
     "output_type": "stream",
     "text": [
      "\n",
      "valuating: 100%|██████████| 86/86 [00:11<00:00,  7.74it/s]"
     ]
    },
    {
     "name": "stdout",
     "output_type": "stream",
     "text": [
      "Avg L1 Loss: 0.0401, Avg PSNR: 24.50, Avg SSIM: 0.7679\n",
      "Epoch 20/50\n"
     ]
    },
    {
     "name": "stderr",
     "output_type": "stream",
     "text": [
      "\n",
      "raining: 100%|██████████| 343/343 [01:19<00:00,  4.34it/s]"
     ]
    },
    {
     "name": "stdout",
     "output_type": "stream",
     "text": [
      "Avg Generator Loss: 14.8751, Avg Discriminator Loss: 0.3051\n"
     ]
    },
    {
     "name": "stderr",
     "output_type": "stream",
     "text": [
      "\n",
      "valuating: 100%|██████████| 86/86 [00:10<00:00,  7.91it/s]"
     ]
    },
    {
     "name": "stdout",
     "output_type": "stream",
     "text": [
      "Avg L1 Loss: 0.0377, Avg PSNR: 25.45, Avg SSIM: 0.7913\n",
      "Models saved for Batch Size: 32, Alpha: 300, Epoch: 20\n",
      "Epoch 21/50\n"
     ]
    },
    {
     "name": "stderr",
     "output_type": "stream",
     "text": [
      "\n",
      "raining: 100%|██████████| 343/343 [01:18<00:00,  4.36it/s]"
     ]
    },
    {
     "name": "stdout",
     "output_type": "stream",
     "text": [
      "Avg Generator Loss: 14.7994, Avg Discriminator Loss: 0.2836\n"
     ]
    },
    {
     "name": "stderr",
     "output_type": "stream",
     "text": [
      "\n",
      "valuating: 100%|██████████| 86/86 [00:10<00:00,  7.84it/s]"
     ]
    },
    {
     "name": "stdout",
     "output_type": "stream",
     "text": [
      "Avg L1 Loss: 0.0389, Avg PSNR: 25.24, Avg SSIM: 0.7820\n",
      "Epoch 22/50\n"
     ]
    },
    {
     "name": "stderr",
     "output_type": "stream",
     "text": [
      "\n",
      "raining: 100%|██████████| 343/343 [01:18<00:00,  4.35it/s]"
     ]
    },
    {
     "name": "stdout",
     "output_type": "stream",
     "text": [
      "Avg Generator Loss: 14.7403, Avg Discriminator Loss: 0.2791\n"
     ]
    },
    {
     "name": "stderr",
     "output_type": "stream",
     "text": [
      "\n",
      "valuating: 100%|██████████| 86/86 [00:11<00:00,  7.77it/s]"
     ]
    },
    {
     "name": "stdout",
     "output_type": "stream",
     "text": [
      "Avg L1 Loss: 0.0382, Avg PSNR: 24.94, Avg SSIM: 0.7716\n",
      "Epoch 23/50\n"
     ]
    },
    {
     "name": "stderr",
     "output_type": "stream",
     "text": [
      "\n",
      "raining: 100%|██████████| 343/343 [01:19<00:00,  4.33it/s]"
     ]
    },
    {
     "name": "stdout",
     "output_type": "stream",
     "text": [
      "Avg Generator Loss: 14.7832, Avg Discriminator Loss: 0.2878\n"
     ]
    },
    {
     "name": "stderr",
     "output_type": "stream",
     "text": [
      "\n",
      "valuating: 100%|██████████| 86/86 [00:10<00:00,  7.89it/s]"
     ]
    },
    {
     "name": "stdout",
     "output_type": "stream",
     "text": [
      "Avg L1 Loss: 0.0383, Avg PSNR: 25.03, Avg SSIM: 0.7967\n",
      "Epoch 24/50\n"
     ]
    },
    {
     "name": "stderr",
     "output_type": "stream",
     "text": [
      "\n",
      "raining: 100%|██████████| 343/343 [01:18<00:00,  4.35it/s]"
     ]
    },
    {
     "name": "stdout",
     "output_type": "stream",
     "text": [
      "Avg Generator Loss: 14.3841, Avg Discriminator Loss: 0.3032\n"
     ]
    },
    {
     "name": "stderr",
     "output_type": "stream",
     "text": [
      "\n",
      "valuating: 100%|██████████| 86/86 [00:11<00:00,  7.81it/s]"
     ]
    },
    {
     "name": "stdout",
     "output_type": "stream",
     "text": [
      "Avg L1 Loss: 0.0359, Avg PSNR: 25.56, Avg SSIM: 0.7982\n",
      "Epoch 25/50\n"
     ]
    },
    {
     "name": "stderr",
     "output_type": "stream",
     "text": [
      "\n",
      "raining: 100%|██████████| 343/343 [01:19<00:00,  4.31it/s]"
     ]
    },
    {
     "name": "stdout",
     "output_type": "stream",
     "text": [
      "Avg Generator Loss: 14.1325, Avg Discriminator Loss: 0.3063\n"
     ]
    },
    {
     "name": "stderr",
     "output_type": "stream",
     "text": [
      "\n",
      "valuating: 100%|██████████| 86/86 [00:11<00:00,  7.76it/s]"
     ]
    },
    {
     "name": "stdout",
     "output_type": "stream",
     "text": [
      "Avg L1 Loss: 0.0382, Avg PSNR: 25.21, Avg SSIM: 0.7877\n",
      "Models saved for Batch Size: 32, Alpha: 300, Epoch: 25\n",
      "Epoch 26/50\n"
     ]
    },
    {
     "name": "stderr",
     "output_type": "stream",
     "text": [
      "\n",
      "raining: 100%|██████████| 343/343 [01:18<00:00,  4.36it/s]"
     ]
    },
    {
     "name": "stdout",
     "output_type": "stream",
     "text": [
      "Avg Generator Loss: 14.3837, Avg Discriminator Loss: 0.2909\n"
     ]
    },
    {
     "name": "stderr",
     "output_type": "stream",
     "text": [
      "\n",
      "valuating: 100%|██████████| 86/86 [00:10<00:00,  7.83it/s]"
     ]
    },
    {
     "name": "stdout",
     "output_type": "stream",
     "text": [
      "Avg L1 Loss: 0.0370, Avg PSNR: 25.51, Avg SSIM: 0.7857\n",
      "Epoch 27/50\n"
     ]
    },
    {
     "name": "stderr",
     "output_type": "stream",
     "text": [
      "\n",
      "raining: 100%|██████████| 343/343 [01:18<00:00,  4.35it/s]"
     ]
    },
    {
     "name": "stdout",
     "output_type": "stream",
     "text": [
      "Avg Generator Loss: 14.3099, Avg Discriminator Loss: 0.2772\n"
     ]
    },
    {
     "name": "stderr",
     "output_type": "stream",
     "text": [
      "\n",
      "valuating: 100%|██████████| 86/86 [00:10<00:00,  7.95it/s]"
     ]
    },
    {
     "name": "stdout",
     "output_type": "stream",
     "text": [
      "Avg L1 Loss: 0.0355, Avg PSNR: 25.77, Avg SSIM: 0.8022\n",
      "Epoch 28/50\n"
     ]
    },
    {
     "name": "stderr",
     "output_type": "stream",
     "text": [
      "\n",
      "raining: 100%|██████████| 343/343 [01:18<00:00,  4.37it/s]"
     ]
    },
    {
     "name": "stdout",
     "output_type": "stream",
     "text": [
      "Avg Generator Loss: 13.9872, Avg Discriminator Loss: 0.2930\n"
     ]
    },
    {
     "name": "stderr",
     "output_type": "stream",
     "text": [
      "\n",
      "valuating: 100%|██████████| 86/86 [00:10<00:00,  7.98it/s]"
     ]
    },
    {
     "name": "stdout",
     "output_type": "stream",
     "text": [
      "Avg L1 Loss: 0.0365, Avg PSNR: 25.51, Avg SSIM: 0.7904\n",
      "Epoch 29/50\n"
     ]
    },
    {
     "name": "stderr",
     "output_type": "stream",
     "text": [
      "\n",
      "raining: 100%|██████████| 343/343 [01:18<00:00,  4.37it/s]"
     ]
    },
    {
     "name": "stdout",
     "output_type": "stream",
     "text": [
      "Avg Generator Loss: 14.2470, Avg Discriminator Loss: 0.2900\n"
     ]
    },
    {
     "name": "stderr",
     "output_type": "stream",
     "text": [
      "\n",
      "valuating: 100%|██████████| 86/86 [00:10<00:00,  8.03it/s]"
     ]
    },
    {
     "name": "stdout",
     "output_type": "stream",
     "text": [
      "Avg L1 Loss: 0.0368, Avg PSNR: 25.33, Avg SSIM: 0.8043\n",
      "Epoch 30/50\n"
     ]
    },
    {
     "name": "stderr",
     "output_type": "stream",
     "text": [
      "\n",
      "raining: 100%|██████████| 343/343 [01:18<00:00,  4.36it/s]"
     ]
    },
    {
     "name": "stdout",
     "output_type": "stream",
     "text": [
      "Avg Generator Loss: 14.3373, Avg Discriminator Loss: 0.2937\n"
     ]
    },
    {
     "name": "stderr",
     "output_type": "stream",
     "text": [
      "\n",
      "valuating: 100%|██████████| 86/86 [00:10<00:00,  8.27it/s]"
     ]
    },
    {
     "name": "stdout",
     "output_type": "stream",
     "text": [
      "Avg L1 Loss: 0.0367, Avg PSNR: 25.46, Avg SSIM: 0.7998\n",
      "Models saved for Batch Size: 32, Alpha: 300, Epoch: 30\n",
      "Epoch 31/50\n"
     ]
    },
    {
     "name": "stderr",
     "output_type": "stream",
     "text": [
      "\n",
      "raining: 100%|██████████| 343/343 [01:18<00:00,  4.36it/s]"
     ]
    },
    {
     "name": "stdout",
     "output_type": "stream",
     "text": [
      "Avg Generator Loss: 13.7746, Avg Discriminator Loss: 0.2791\n"
     ]
    },
    {
     "name": "stderr",
     "output_type": "stream",
     "text": [
      "\n",
      "valuating: 100%|██████████| 86/86 [00:10<00:00,  7.96it/s]"
     ]
    },
    {
     "name": "stdout",
     "output_type": "stream",
     "text": [
      "Avg L1 Loss: 0.0352, Avg PSNR: 26.07, Avg SSIM: 0.8069\n",
      "Epoch 32/50\n"
     ]
    },
    {
     "name": "stderr",
     "output_type": "stream",
     "text": [
      "\n",
      "raining: 100%|██████████| 343/343 [01:18<00:00,  4.36it/s]"
     ]
    },
    {
     "name": "stdout",
     "output_type": "stream",
     "text": [
      "Avg Generator Loss: 13.9914, Avg Discriminator Loss: 0.2744\n"
     ]
    },
    {
     "name": "stderr",
     "output_type": "stream",
     "text": [
      "\n",
      "valuating: 100%|██████████| 86/86 [00:10<00:00,  8.09it/s]"
     ]
    },
    {
     "name": "stdout",
     "output_type": "stream",
     "text": [
      "Avg L1 Loss: 0.0368, Avg PSNR: 25.62, Avg SSIM: 0.7798\n",
      "Epoch 33/50\n"
     ]
    },
    {
     "name": "stderr",
     "output_type": "stream",
     "text": [
      "\n",
      "raining: 100%|██████████| 343/343 [01:18<00:00,  4.36it/s]"
     ]
    },
    {
     "name": "stdout",
     "output_type": "stream",
     "text": [
      "Avg Generator Loss: 14.8369, Avg Discriminator Loss: 0.2548\n"
     ]
    },
    {
     "name": "stderr",
     "output_type": "stream",
     "text": [
      "\n",
      "valuating: 100%|██████████| 86/86 [00:10<00:00,  7.89it/s]"
     ]
    },
    {
     "name": "stdout",
     "output_type": "stream",
     "text": [
      "Avg L1 Loss: 0.0364, Avg PSNR: 25.40, Avg SSIM: 0.7947\n",
      "Epoch 34/50\n"
     ]
    },
    {
     "name": "stderr",
     "output_type": "stream",
     "text": [
      "\n",
      "raining: 100%|██████████| 343/343 [01:18<00:00,  4.38it/s]"
     ]
    },
    {
     "name": "stdout",
     "output_type": "stream",
     "text": [
      "Avg Generator Loss: 14.0056, Avg Discriminator Loss: 0.2627\n"
     ]
    },
    {
     "name": "stderr",
     "output_type": "stream",
     "text": [
      "\n",
      "valuating: 100%|██████████| 86/86 [00:10<00:00,  8.01it/s]"
     ]
    },
    {
     "name": "stdout",
     "output_type": "stream",
     "text": [
      "Avg L1 Loss: 0.0358, Avg PSNR: 25.66, Avg SSIM: 0.7977\n",
      "Epoch 35/50\n"
     ]
    },
    {
     "name": "stderr",
     "output_type": "stream",
     "text": [
      "\n",
      "raining: 100%|██████████| 343/343 [01:18<00:00,  4.36it/s]"
     ]
    },
    {
     "name": "stdout",
     "output_type": "stream",
     "text": [
      "Avg Generator Loss: 13.7372, Avg Discriminator Loss: 0.2827\n"
     ]
    },
    {
     "name": "stderr",
     "output_type": "stream",
     "text": [
      "\n",
      "valuating: 100%|██████████| 86/86 [00:10<00:00,  8.10it/s]"
     ]
    },
    {
     "name": "stdout",
     "output_type": "stream",
     "text": [
      "Avg L1 Loss: 0.0348, Avg PSNR: 25.83, Avg SSIM: 0.7997\n",
      "Models saved for Batch Size: 32, Alpha: 300, Epoch: 35\n",
      "Epoch 36/50\n"
     ]
    },
    {
     "name": "stderr",
     "output_type": "stream",
     "text": [
      "\n",
      "raining: 100%|██████████| 343/343 [01:18<00:00,  4.37it/s]"
     ]
    },
    {
     "name": "stdout",
     "output_type": "stream",
     "text": [
      "Avg Generator Loss: 13.5926, Avg Discriminator Loss: 0.2753\n"
     ]
    },
    {
     "name": "stderr",
     "output_type": "stream",
     "text": [
      "\n",
      "valuating: 100%|██████████| 86/86 [00:10<00:00,  8.14it/s]"
     ]
    },
    {
     "name": "stdout",
     "output_type": "stream",
     "text": [
      "Avg L1 Loss: 0.0378, Avg PSNR: 25.28, Avg SSIM: 0.8010\n",
      "Epoch 37/50\n"
     ]
    },
    {
     "name": "stderr",
     "output_type": "stream",
     "text": [
      "\n",
      "raining: 100%|██████████| 343/343 [01:18<00:00,  4.37it/s]"
     ]
    },
    {
     "name": "stdout",
     "output_type": "stream",
     "text": [
      "Avg Generator Loss: 13.7476, Avg Discriminator Loss: 0.2733\n"
     ]
    },
    {
     "name": "stderr",
     "output_type": "stream",
     "text": [
      "\n",
      "valuating: 100%|██████████| 86/86 [00:11<00:00,  7.36it/s]"
     ]
    },
    {
     "name": "stdout",
     "output_type": "stream",
     "text": [
      "Avg L1 Loss: 0.0351, Avg PSNR: 25.96, Avg SSIM: 0.7912\n",
      "Epoch 38/50\n"
     ]
    },
    {
     "name": "stderr",
     "output_type": "stream",
     "text": [
      "\n",
      "raining: 100%|██████████| 343/343 [01:19<00:00,  4.32it/s]"
     ]
    },
    {
     "name": "stdout",
     "output_type": "stream",
     "text": [
      "Avg Generator Loss: 13.4796, Avg Discriminator Loss: 0.2961\n"
     ]
    },
    {
     "name": "stderr",
     "output_type": "stream",
     "text": [
      "\n",
      "valuating: 100%|██████████| 86/86 [00:10<00:00,  7.95it/s]"
     ]
    },
    {
     "name": "stdout",
     "output_type": "stream",
     "text": [
      "Avg L1 Loss: 0.0352, Avg PSNR: 26.07, Avg SSIM: 0.7988\n",
      "Epoch 39/50\n"
     ]
    },
    {
     "name": "stderr",
     "output_type": "stream",
     "text": [
      "\n",
      "raining: 100%|██████████| 343/343 [01:18<00:00,  4.35it/s]"
     ]
    },
    {
     "name": "stdout",
     "output_type": "stream",
     "text": [
      "Avg Generator Loss: 13.4886, Avg Discriminator Loss: 0.2789\n"
     ]
    },
    {
     "name": "stderr",
     "output_type": "stream",
     "text": [
      "\n",
      "valuating: 100%|██████████| 86/86 [00:11<00:00,  7.79it/s]"
     ]
    },
    {
     "name": "stdout",
     "output_type": "stream",
     "text": [
      "Avg L1 Loss: 0.0378, Avg PSNR: 25.50, Avg SSIM: 0.7856\n",
      "Epoch 40/50\n"
     ]
    },
    {
     "name": "stderr",
     "output_type": "stream",
     "text": [
      "\n",
      "raining: 100%|██████████| 343/343 [01:19<00:00,  4.31it/s]"
     ]
    },
    {
     "name": "stdout",
     "output_type": "stream",
     "text": [
      "Avg Generator Loss: 13.4533, Avg Discriminator Loss: 0.2786\n"
     ]
    },
    {
     "name": "stderr",
     "output_type": "stream",
     "text": [
      "\n",
      "valuating: 100%|██████████| 86/86 [00:10<00:00,  7.86it/s]"
     ]
    },
    {
     "name": "stdout",
     "output_type": "stream",
     "text": [
      "Avg L1 Loss: 0.0333, Avg PSNR: 26.47, Avg SSIM: 0.8201\n",
      "Models saved for Batch Size: 32, Alpha: 300, Epoch: 40\n",
      "Epoch 41/50\n"
     ]
    },
    {
     "name": "stderr",
     "output_type": "stream",
     "text": [
      "\n",
      "raining: 100%|██████████| 343/343 [01:19<00:00,  4.34it/s]"
     ]
    },
    {
     "name": "stdout",
     "output_type": "stream",
     "text": [
      "Avg Generator Loss: 13.1738, Avg Discriminator Loss: 0.2946\n"
     ]
    },
    {
     "name": "stderr",
     "output_type": "stream",
     "text": [
      "\n",
      "valuating: 100%|██████████| 86/86 [00:10<00:00,  7.99it/s]"
     ]
    },
    {
     "name": "stdout",
     "output_type": "stream",
     "text": [
      "Avg L1 Loss: 0.0340, Avg PSNR: 26.17, Avg SSIM: 0.8123\n",
      "Epoch 42/50\n"
     ]
    },
    {
     "name": "stderr",
     "output_type": "stream",
     "text": [
      "\n",
      "raining: 100%|██████████| 343/343 [01:18<00:00,  4.36it/s]"
     ]
    },
    {
     "name": "stdout",
     "output_type": "stream",
     "text": [
      "Avg Generator Loss: 13.2952, Avg Discriminator Loss: 0.2867\n"
     ]
    },
    {
     "name": "stderr",
     "output_type": "stream",
     "text": [
      "\n",
      "valuating: 100%|██████████| 86/86 [00:11<00:00,  7.74it/s]"
     ]
    },
    {
     "name": "stdout",
     "output_type": "stream",
     "text": [
      "Avg L1 Loss: 0.0355, Avg PSNR: 26.03, Avg SSIM: 0.8140\n",
      "Epoch 43/50\n"
     ]
    },
    {
     "name": "stderr",
     "output_type": "stream",
     "text": [
      "\n",
      "raining: 100%|██████████| 343/343 [01:18<00:00,  4.36it/s]"
     ]
    },
    {
     "name": "stdout",
     "output_type": "stream",
     "text": [
      "Avg Generator Loss: 13.1470, Avg Discriminator Loss: 0.2951\n"
     ]
    },
    {
     "name": "stderr",
     "output_type": "stream",
     "text": [
      "\n",
      "valuating: 100%|██████████| 86/86 [00:10<00:00,  7.96it/s]"
     ]
    },
    {
     "name": "stdout",
     "output_type": "stream",
     "text": [
      "Avg L1 Loss: 0.0341, Avg PSNR: 26.16, Avg SSIM: 0.8058\n",
      "Epoch 44/50\n"
     ]
    },
    {
     "name": "stderr",
     "output_type": "stream",
     "text": [
      "\n",
      "raining: 100%|██████████| 343/343 [01:18<00:00,  4.35it/s]"
     ]
    },
    {
     "name": "stdout",
     "output_type": "stream",
     "text": [
      "Avg Generator Loss: 13.1845, Avg Discriminator Loss: 0.2972\n"
     ]
    },
    {
     "name": "stderr",
     "output_type": "stream",
     "text": [
      "\n",
      "valuating: 100%|██████████| 86/86 [00:10<00:00,  7.91it/s]"
     ]
    },
    {
     "name": "stdout",
     "output_type": "stream",
     "text": [
      "Avg L1 Loss: 0.0358, Avg PSNR: 25.79, Avg SSIM: 0.8058\n",
      "Epoch 45/50\n"
     ]
    },
    {
     "name": "stderr",
     "output_type": "stream",
     "text": [
      "\n",
      "raining: 100%|██████████| 343/343 [01:18<00:00,  4.35it/s]"
     ]
    },
    {
     "name": "stdout",
     "output_type": "stream",
     "text": [
      "Avg Generator Loss: 13.1989, Avg Discriminator Loss: 0.3000\n"
     ]
    },
    {
     "name": "stderr",
     "output_type": "stream",
     "text": [
      "\n",
      "valuating: 100%|██████████| 86/86 [00:10<00:00,  8.08it/s]"
     ]
    },
    {
     "name": "stdout",
     "output_type": "stream",
     "text": [
      "Avg L1 Loss: 0.0332, Avg PSNR: 26.41, Avg SSIM: 0.8118\n",
      "Models saved for Batch Size: 32, Alpha: 300, Epoch: 45\n",
      "Epoch 46/50\n"
     ]
    },
    {
     "name": "stderr",
     "output_type": "stream",
     "text": [
      "\n",
      "raining: 100%|██████████| 343/343 [01:19<00:00,  4.32it/s]"
     ]
    },
    {
     "name": "stdout",
     "output_type": "stream",
     "text": [
      "Avg Generator Loss: 13.2020, Avg Discriminator Loss: 0.3009\n"
     ]
    },
    {
     "name": "stderr",
     "output_type": "stream",
     "text": [
      "\n",
      "valuating: 100%|██████████| 86/86 [00:10<00:00,  7.99it/s]"
     ]
    },
    {
     "name": "stdout",
     "output_type": "stream",
     "text": [
      "Avg L1 Loss: 0.0356, Avg PSNR: 25.82, Avg SSIM: 0.7894\n",
      "Epoch 47/50\n"
     ]
    },
    {
     "name": "stderr",
     "output_type": "stream",
     "text": [
      "\n",
      "raining: 100%|██████████| 343/343 [01:18<00:00,  4.36it/s]"
     ]
    },
    {
     "name": "stdout",
     "output_type": "stream",
     "text": [
      "Avg Generator Loss: 12.8106, Avg Discriminator Loss: 0.2902\n"
     ]
    },
    {
     "name": "stderr",
     "output_type": "stream",
     "text": [
      "\n",
      "valuating: 100%|██████████| 86/86 [00:10<00:00,  8.09it/s]"
     ]
    },
    {
     "name": "stdout",
     "output_type": "stream",
     "text": [
      "Avg L1 Loss: 0.0330, Avg PSNR: 26.36, Avg SSIM: 0.8180\n",
      "Epoch 48/50\n"
     ]
    },
    {
     "name": "stderr",
     "output_type": "stream",
     "text": [
      "\n",
      "raining: 100%|██████████| 343/343 [01:18<00:00,  4.36it/s]"
     ]
    },
    {
     "name": "stdout",
     "output_type": "stream",
     "text": [
      "Avg Generator Loss: 12.7028, Avg Discriminator Loss: 0.3029\n"
     ]
    },
    {
     "name": "stderr",
     "output_type": "stream",
     "text": [
      "\n",
      "valuating: 100%|██████████| 86/86 [00:10<00:00,  7.92it/s]"
     ]
    },
    {
     "name": "stdout",
     "output_type": "stream",
     "text": [
      "Avg L1 Loss: 0.0333, Avg PSNR: 26.21, Avg SSIM: 0.8073\n",
      "Epoch 49/50\n"
     ]
    },
    {
     "name": "stderr",
     "output_type": "stream",
     "text": [
      "\n",
      "raining: 100%|██████████| 343/343 [01:18<00:00,  4.36it/s]"
     ]
    },
    {
     "name": "stdout",
     "output_type": "stream",
     "text": [
      "Avg Generator Loss: 12.7649, Avg Discriminator Loss: 0.3183\n"
     ]
    },
    {
     "name": "stderr",
     "output_type": "stream",
     "text": [
      "\n",
      "valuating: 100%|██████████| 86/86 [00:11<00:00,  7.69it/s]"
     ]
    },
    {
     "name": "stdout",
     "output_type": "stream",
     "text": [
      "Avg L1 Loss: 0.0312, Avg PSNR: 26.81, Avg SSIM: 0.8208\n",
      "Epoch 50/50\n"
     ]
    },
    {
     "name": "stderr",
     "output_type": "stream",
     "text": [
      "\n",
      "raining: 100%|██████████| 343/343 [01:19<00:00,  4.32it/s]"
     ]
    },
    {
     "name": "stdout",
     "output_type": "stream",
     "text": [
      "Avg Generator Loss: 12.6770, Avg Discriminator Loss: 0.3146\n"
     ]
    },
    {
     "name": "stderr",
     "output_type": "stream",
     "text": [
      "\n",
      "valuating: 100%|██████████| 86/86 [00:10<00:00,  7.86it/s]"
     ]
    },
    {
     "name": "stdout",
     "output_type": "stream",
     "text": [
      "Avg L1 Loss: 0.0325, Avg PSNR: 26.71, Avg SSIM: 0.8284\n",
      "Models saved for Batch Size: 32, Alpha: 300, Epoch: 50\n",
      "Testing Batch Size: 16, Alpha: 300\n",
      "Epoch 1/50\n"
     ]
    },
    {
     "name": "stderr",
     "output_type": "stream",
     "text": [
      "\n",
      "raining: 100%|██████████| 686/686 [01:21<00:00,  8.40it/s]"
     ]
    },
    {
     "name": "stdout",
     "output_type": "stream",
     "text": [
      "Avg Generator Loss: 27.3715, Avg Discriminator Loss: 0.4320\n"
     ]
    },
    {
     "name": "stderr",
     "output_type": "stream",
     "text": [
      "\n",
      "valuating: 100%|██████████| 172/172 [00:11<00:00, 15.41it/s]"
     ]
    },
    {
     "name": "stdout",
     "output_type": "stream",
     "text": [
      "Avg L1 Loss: 0.0769, Avg PSNR: 19.77, Avg SSIM: 0.5171\n",
      "Models saved for Batch Size: 16, Alpha: 300, Epoch: 1\n",
      "Epoch 2/50\n"
     ]
    },
    {
     "name": "stderr",
     "output_type": "stream",
     "text": [
      "\n",
      "raining: 100%|██████████| 686/686 [01:21<00:00,  8.41it/s]"
     ]
    },
    {
     "name": "stdout",
     "output_type": "stream",
     "text": [
      "Avg Generator Loss: 20.4164, Avg Discriminator Loss: 0.2735\n"
     ]
    },
    {
     "name": "stderr",
     "output_type": "stream",
     "text": [
      "\n",
      "valuating: 100%|██████████| 172/172 [00:11<00:00, 15.56it/s]"
     ]
    },
    {
     "name": "stdout",
     "output_type": "stream",
     "text": [
      "Avg L1 Loss: 0.0527, Avg PSNR: 22.60, Avg SSIM: 0.6624\n",
      "Epoch 3/50\n"
     ]
    },
    {
     "name": "stderr",
     "output_type": "stream",
     "text": [
      "\n",
      "raining: 100%|██████████| 686/686 [01:22<00:00,  8.34it/s]"
     ]
    },
    {
     "name": "stdout",
     "output_type": "stream",
     "text": [
      "Avg Generator Loss: 19.9994, Avg Discriminator Loss: 0.1861\n"
     ]
    },
    {
     "name": "stderr",
     "output_type": "stream",
     "text": [
      "\n",
      "valuating: 100%|██████████| 172/172 [00:10<00:00, 15.68it/s]"
     ]
    },
    {
     "name": "stdout",
     "output_type": "stream",
     "text": [
      "Avg L1 Loss: 0.0500, Avg PSNR: 23.42, Avg SSIM: 0.6829\n",
      "Epoch 4/50\n"
     ]
    },
    {
     "name": "stderr",
     "output_type": "stream",
     "text": [
      "\n",
      "raining: 100%|██████████| 686/686 [01:22<00:00,  8.36it/s]"
     ]
    },
    {
     "name": "stdout",
     "output_type": "stream",
     "text": [
      "Avg Generator Loss: 19.0425, Avg Discriminator Loss: 0.1967\n"
     ]
    },
    {
     "name": "stderr",
     "output_type": "stream",
     "text": [
      "\n",
      "valuating: 100%|██████████| 172/172 [00:10<00:00, 15.79it/s]"
     ]
    },
    {
     "name": "stdout",
     "output_type": "stream",
     "text": [
      "Avg L1 Loss: 0.0476, Avg PSNR: 23.73, Avg SSIM: 0.7164\n",
      "Epoch 5/50\n"
     ]
    },
    {
     "name": "stderr",
     "output_type": "stream",
     "text": [
      "\n",
      "raining: 100%|██████████| 686/686 [01:21<00:00,  8.39it/s]"
     ]
    },
    {
     "name": "stdout",
     "output_type": "stream",
     "text": [
      "Avg Generator Loss: 18.4548, Avg Discriminator Loss: 0.1960\n"
     ]
    },
    {
     "name": "stderr",
     "output_type": "stream",
     "text": [
      "\n",
      "valuating: 100%|██████████| 172/172 [00:10<00:00, 15.78it/s]"
     ]
    },
    {
     "name": "stdout",
     "output_type": "stream",
     "text": [
      "Avg L1 Loss: 0.0538, Avg PSNR: 22.16, Avg SSIM: 0.7084\n",
      "Models saved for Batch Size: 16, Alpha: 300, Epoch: 5\n",
      "Epoch 6/50\n"
     ]
    },
    {
     "name": "stderr",
     "output_type": "stream",
     "text": [
      "\n",
      "raining: 100%|██████████| 686/686 [01:21<00:00,  8.40it/s]"
     ]
    },
    {
     "name": "stdout",
     "output_type": "stream",
     "text": [
      "Avg Generator Loss: 17.9902, Avg Discriminator Loss: 0.2006\n"
     ]
    },
    {
     "name": "stderr",
     "output_type": "stream",
     "text": [
      "\n",
      "valuating: 100%|██████████| 172/172 [00:10<00:00, 15.92it/s]"
     ]
    },
    {
     "name": "stdout",
     "output_type": "stream",
     "text": [
      "Avg L1 Loss: 0.0981, Avg PSNR: 18.02, Avg SSIM: 0.6116\n",
      "Epoch 7/50\n"
     ]
    },
    {
     "name": "stderr",
     "output_type": "stream",
     "text": [
      "\n",
      "raining: 100%|██████████| 686/686 [01:21<00:00,  8.39it/s]"
     ]
    },
    {
     "name": "stdout",
     "output_type": "stream",
     "text": [
      "Avg Generator Loss: 17.2257, Avg Discriminator Loss: 0.2311\n"
     ]
    },
    {
     "name": "stderr",
     "output_type": "stream",
     "text": [
      "\n",
      "valuating: 100%|██████████| 172/172 [00:10<00:00, 15.76it/s]"
     ]
    },
    {
     "name": "stdout",
     "output_type": "stream",
     "text": [
      "Avg L1 Loss: 0.0488, Avg PSNR: 23.18, Avg SSIM: 0.7035\n",
      "Epoch 8/50\n"
     ]
    },
    {
     "name": "stderr",
     "output_type": "stream",
     "text": [
      "\n",
      "raining: 100%|██████████| 686/686 [01:21<00:00,  8.41it/s]"
     ]
    },
    {
     "name": "stdout",
     "output_type": "stream",
     "text": [
      "Avg Generator Loss: 17.1302, Avg Discriminator Loss: 0.2273\n"
     ]
    },
    {
     "name": "stderr",
     "output_type": "stream",
     "text": [
      "\n",
      "valuating: 100%|██████████| 172/172 [00:10<00:00, 15.68it/s]"
     ]
    },
    {
     "name": "stdout",
     "output_type": "stream",
     "text": [
      "Avg L1 Loss: 0.0498, Avg PSNR: 23.46, Avg SSIM: 0.7446\n",
      "Epoch 9/50\n"
     ]
    },
    {
     "name": "stderr",
     "output_type": "stream",
     "text": [
      "\n",
      "raining: 100%|██████████| 686/686 [01:22<00:00,  8.31it/s]"
     ]
    },
    {
     "name": "stdout",
     "output_type": "stream",
     "text": [
      "Avg Generator Loss: 16.7193, Avg Discriminator Loss: 0.2364\n"
     ]
    },
    {
     "name": "stderr",
     "output_type": "stream",
     "text": [
      "\n",
      "valuating: 100%|██████████| 172/172 [00:10<00:00, 15.76it/s]"
     ]
    },
    {
     "name": "stdout",
     "output_type": "stream",
     "text": [
      "Avg L1 Loss: 0.0491, Avg PSNR: 22.84, Avg SSIM: 0.7345\n",
      "Epoch 10/50\n"
     ]
    },
    {
     "name": "stderr",
     "output_type": "stream",
     "text": [
      "\n",
      "raining: 100%|██████████| 686/686 [01:22<00:00,  8.35it/s]"
     ]
    },
    {
     "name": "stdout",
     "output_type": "stream",
     "text": [
      "Avg Generator Loss: 16.4821, Avg Discriminator Loss: 0.2300\n"
     ]
    },
    {
     "name": "stderr",
     "output_type": "stream",
     "text": [
      "\n",
      "valuating: 100%|██████████| 172/172 [00:11<00:00, 15.29it/s]"
     ]
    },
    {
     "name": "stdout",
     "output_type": "stream",
     "text": [
      "Avg L1 Loss: 0.0404, Avg PSNR: 24.88, Avg SSIM: 0.7644\n",
      "Models saved for Batch Size: 16, Alpha: 300, Epoch: 10\n",
      "Epoch 11/50\n"
     ]
    },
    {
     "name": "stderr",
     "output_type": "stream",
     "text": [
      "\n",
      "raining: 100%|██████████| 686/686 [01:21<00:00,  8.40it/s]"
     ]
    },
    {
     "name": "stdout",
     "output_type": "stream",
     "text": [
      "Avg Generator Loss: 16.8225, Avg Discriminator Loss: 0.2245\n"
     ]
    },
    {
     "name": "stderr",
     "output_type": "stream",
     "text": [
      "\n",
      "valuating: 100%|██████████| 172/172 [00:10<00:00, 15.67it/s]"
     ]
    },
    {
     "name": "stdout",
     "output_type": "stream",
     "text": [
      "Avg L1 Loss: 0.0419, Avg PSNR: 24.59, Avg SSIM: 0.7896\n",
      "Epoch 12/50\n"
     ]
    },
    {
     "name": "stderr",
     "output_type": "stream",
     "text": [
      "\n",
      "raining: 100%|██████████| 686/686 [01:21<00:00,  8.40it/s]"
     ]
    },
    {
     "name": "stdout",
     "output_type": "stream",
     "text": [
      "Avg Generator Loss: 15.8652, Avg Discriminator Loss: 0.2294\n"
     ]
    },
    {
     "name": "stderr",
     "output_type": "stream",
     "text": [
      "\n",
      "valuating: 100%|██████████| 172/172 [00:11<00:00, 15.33it/s]"
     ]
    },
    {
     "name": "stdout",
     "output_type": "stream",
     "text": [
      "Avg L1 Loss: 0.0393, Avg PSNR: 25.00, Avg SSIM: 0.7723\n",
      "Epoch 13/50\n"
     ]
    },
    {
     "name": "stderr",
     "output_type": "stream",
     "text": [
      "\n",
      "raining: 100%|██████████| 686/686 [01:22<00:00,  8.33it/s]"
     ]
    },
    {
     "name": "stdout",
     "output_type": "stream",
     "text": [
      "Avg Generator Loss: 15.9309, Avg Discriminator Loss: 0.2306\n"
     ]
    },
    {
     "name": "stderr",
     "output_type": "stream",
     "text": [
      "\n",
      "valuating: 100%|██████████| 172/172 [00:11<00:00, 15.31it/s]"
     ]
    },
    {
     "name": "stdout",
     "output_type": "stream",
     "text": [
      "Avg L1 Loss: 0.0453, Avg PSNR: 24.36, Avg SSIM: 0.7534\n",
      "Epoch 14/50\n"
     ]
    },
    {
     "name": "stderr",
     "output_type": "stream",
     "text": [
      "\n",
      "raining: 100%|██████████| 686/686 [01:21<00:00,  8.37it/s]"
     ]
    },
    {
     "name": "stdout",
     "output_type": "stream",
     "text": [
      "Avg Generator Loss: 15.7509, Avg Discriminator Loss: 0.2376\n"
     ]
    },
    {
     "name": "stderr",
     "output_type": "stream",
     "text": [
      "\n",
      "valuating: 100%|██████████| 172/172 [00:11<00:00, 15.52it/s]"
     ]
    },
    {
     "name": "stdout",
     "output_type": "stream",
     "text": [
      "Avg L1 Loss: 0.0428, Avg PSNR: 24.51, Avg SSIM: 0.7643\n",
      "Epoch 15/50\n"
     ]
    },
    {
     "name": "stderr",
     "output_type": "stream",
     "text": [
      "\n",
      "raining: 100%|██████████| 686/686 [01:21<00:00,  8.37it/s]"
     ]
    },
    {
     "name": "stdout",
     "output_type": "stream",
     "text": [
      "Avg Generator Loss: 15.8158, Avg Discriminator Loss: 0.2267\n"
     ]
    },
    {
     "name": "stderr",
     "output_type": "stream",
     "text": [
      "\n",
      "valuating: 100%|██████████| 172/172 [00:10<00:00, 15.73it/s]"
     ]
    },
    {
     "name": "stdout",
     "output_type": "stream",
     "text": [
      "Avg L1 Loss: 0.0415, Avg PSNR: 24.75, Avg SSIM: 0.7785\n",
      "Models saved for Batch Size: 16, Alpha: 300, Epoch: 15\n",
      "Epoch 16/50\n"
     ]
    },
    {
     "name": "stderr",
     "output_type": "stream",
     "text": [
      "\n",
      "raining: 100%|██████████| 686/686 [01:22<00:00,  8.36it/s]"
     ]
    },
    {
     "name": "stdout",
     "output_type": "stream",
     "text": [
      "Avg Generator Loss: 16.8034, Avg Discriminator Loss: 0.1903\n"
     ]
    },
    {
     "name": "stderr",
     "output_type": "stream",
     "text": [
      "\n",
      "valuating: 100%|██████████| 172/172 [00:10<00:00, 15.85it/s]"
     ]
    },
    {
     "name": "stdout",
     "output_type": "stream",
     "text": [
      "Avg L1 Loss: 0.0518, Avg PSNR: 22.67, Avg SSIM: 0.7619\n",
      "Epoch 17/50\n"
     ]
    },
    {
     "name": "stderr",
     "output_type": "stream",
     "text": [
      "\n",
      "raining: 100%|██████████| 686/686 [01:22<00:00,  8.37it/s]"
     ]
    },
    {
     "name": "stdout",
     "output_type": "stream",
     "text": [
      "Avg Generator Loss: 16.1238, Avg Discriminator Loss: 0.2115\n"
     ]
    },
    {
     "name": "stderr",
     "output_type": "stream",
     "text": [
      "\n",
      "valuating: 100%|██████████| 172/172 [00:11<00:00, 15.22it/s]"
     ]
    },
    {
     "name": "stdout",
     "output_type": "stream",
     "text": [
      "Avg L1 Loss: 0.0404, Avg PSNR: 24.76, Avg SSIM: 0.7907\n",
      "Epoch 18/50\n"
     ]
    },
    {
     "name": "stderr",
     "output_type": "stream",
     "text": [
      "\n",
      "raining: 100%|██████████| 686/686 [01:22<00:00,  8.36it/s]"
     ]
    },
    {
     "name": "stdout",
     "output_type": "stream",
     "text": [
      "Avg Generator Loss: 15.5620, Avg Discriminator Loss: 0.2174\n"
     ]
    },
    {
     "name": "stderr",
     "output_type": "stream",
     "text": [
      "\n",
      "valuating: 100%|██████████| 172/172 [00:11<00:00, 15.49it/s]"
     ]
    },
    {
     "name": "stdout",
     "output_type": "stream",
     "text": [
      "Avg L1 Loss: 0.0997, Avg PSNR: 15.55, Avg SSIM: 0.6565\n",
      "Epoch 20/50\n"
     ]
    },
    {
     "name": "stderr",
     "output_type": "stream",
     "text": [
      "\n",
      "raining: 100%|██████████| 686/686 [01:21<00:00,  8.40it/s]"
     ]
    },
    {
     "name": "stdout",
     "output_type": "stream",
     "text": [
      "Avg Generator Loss: 15.6148, Avg Discriminator Loss: 0.2103\n"
     ]
    },
    {
     "name": "stderr",
     "output_type": "stream",
     "text": [
      "\n",
      "valuating: 100%|██████████| 172/172 [00:10<00:00, 15.77it/s]"
     ]
    },
    {
     "name": "stdout",
     "output_type": "stream",
     "text": [
      "Avg L1 Loss: 0.0359, Avg PSNR: 25.78, Avg SSIM: 0.8018\n",
      "Models saved for Batch Size: 16, Alpha: 300, Epoch: 20\n",
      "Epoch 21/50\n"
     ]
    },
    {
     "name": "stderr",
     "output_type": "stream",
     "text": [
      "\n",
      "raining: 100%|██████████| 686/686 [01:21<00:00,  8.41it/s]"
     ]
    },
    {
     "name": "stdout",
     "output_type": "stream",
     "text": [
      "Avg Generator Loss: 15.0381, Avg Discriminator Loss: 0.2242\n"
     ]
    },
    {
     "name": "stderr",
     "output_type": "stream",
     "text": [
      "\n",
      "valuating: 100%|██████████| 172/172 [00:10<00:00, 15.79it/s]"
     ]
    },
    {
     "name": "stdout",
     "output_type": "stream",
     "text": [
      "Avg L1 Loss: 0.0388, Avg PSNR: 24.76, Avg SSIM: 0.7809\n",
      "Epoch 22/50\n"
     ]
    },
    {
     "name": "stderr",
     "output_type": "stream",
     "text": [
      "\n",
      "raining: 100%|██████████| 686/686 [01:21<00:00,  8.43it/s]"
     ]
    },
    {
     "name": "stdout",
     "output_type": "stream",
     "text": [
      "Avg Generator Loss: 14.8541, Avg Discriminator Loss: 0.2392\n"
     ]
    },
    {
     "name": "stderr",
     "output_type": "stream",
     "text": [
      "\n",
      "valuating: 100%|██████████| 172/172 [00:10<00:00, 15.70it/s]"
     ]
    },
    {
     "name": "stdout",
     "output_type": "stream",
     "text": [
      "Avg L1 Loss: 0.0367, Avg PSNR: 25.57, Avg SSIM: 0.7933\n",
      "Epoch 23/50\n"
     ]
    },
    {
     "name": "stderr",
     "output_type": "stream",
     "text": [
      "\n",
      "raining: 100%|██████████| 686/686 [01:21<00:00,  8.42it/s]"
     ]
    },
    {
     "name": "stdout",
     "output_type": "stream",
     "text": [
      "Avg Generator Loss: 14.6525, Avg Discriminator Loss: 0.2296\n"
     ]
    },
    {
     "name": "stderr",
     "output_type": "stream",
     "text": [
      "\n",
      "valuating: 100%|██████████| 172/172 [00:10<00:00, 15.86it/s]"
     ]
    },
    {
     "name": "stdout",
     "output_type": "stream",
     "text": [
      "Avg L1 Loss: 0.0357, Avg PSNR: 26.07, Avg SSIM: 0.8027\n",
      "Epoch 24/50\n"
     ]
    },
    {
     "name": "stderr",
     "output_type": "stream",
     "text": [
      "\n",
      "raining: 100%|██████████| 686/686 [01:22<00:00,  8.33it/s]"
     ]
    },
    {
     "name": "stdout",
     "output_type": "stream",
     "text": [
      "Avg Generator Loss: 14.8884, Avg Discriminator Loss: 0.2280\n"
     ]
    },
    {
     "name": "stderr",
     "output_type": "stream",
     "text": [
      "\n",
      "valuating: 100%|██████████| 172/172 [00:11<00:00, 15.30it/s]"
     ]
    },
    {
     "name": "stdout",
     "output_type": "stream",
     "text": [
      "Avg L1 Loss: 0.0529, Avg PSNR: 22.14, Avg SSIM: 0.7176\n",
      "Epoch 25/50\n"
     ]
    },
    {
     "name": "stderr",
     "output_type": "stream",
     "text": [
      "\n",
      "raining: 100%|██████████| 686/686 [01:22<00:00,  8.33it/s]"
     ]
    },
    {
     "name": "stdout",
     "output_type": "stream",
     "text": [
      "Avg Generator Loss: 15.1075, Avg Discriminator Loss: 0.2176\n"
     ]
    },
    {
     "name": "stderr",
     "output_type": "stream",
     "text": [
      "\n",
      "valuating: 100%|██████████| 172/172 [00:11<00:00, 15.31it/s]"
     ]
    },
    {
     "name": "stdout",
     "output_type": "stream",
     "text": [
      "Avg L1 Loss: 0.0342, Avg PSNR: 26.23, Avg SSIM: 0.8055\n",
      "Models saved for Batch Size: 16, Alpha: 300, Epoch: 25\n",
      "Epoch 26/50\n"
     ]
    },
    {
     "name": "stderr",
     "output_type": "stream",
     "text": [
      "\n",
      "raining: 100%|██████████| 686/686 [01:21<00:00,  8.40it/s]"
     ]
    },
    {
     "name": "stdout",
     "output_type": "stream",
     "text": [
      "Avg Generator Loss: 14.5495, Avg Discriminator Loss: 0.2210\n"
     ]
    },
    {
     "name": "stderr",
     "output_type": "stream",
     "text": [
      "\n",
      "valuating: 100%|██████████| 172/172 [00:10<00:00, 15.89it/s]"
     ]
    },
    {
     "name": "stdout",
     "output_type": "stream",
     "text": [
      "Avg L1 Loss: 0.0405, Avg PSNR: 24.88, Avg SSIM: 0.7862\n",
      "Epoch 27/50\n"
     ]
    },
    {
     "name": "stderr",
     "output_type": "stream",
     "text": [
      "\n",
      "raining: 100%|██████████| 686/686 [01:22<00:00,  8.32it/s]"
     ]
    },
    {
     "name": "stdout",
     "output_type": "stream",
     "text": [
      "Avg Generator Loss: 14.1828, Avg Discriminator Loss: 0.2352\n"
     ]
    },
    {
     "name": "stderr",
     "output_type": "stream",
     "text": [
      "\n",
      "valuating: 100%|██████████| 172/172 [00:10<00:00, 15.97it/s]"
     ]
    },
    {
     "name": "stdout",
     "output_type": "stream",
     "text": [
      "Avg L1 Loss: 0.0369, Avg PSNR: 25.24, Avg SSIM: 0.7984\n",
      "Epoch 28/50\n"
     ]
    },
    {
     "name": "stderr",
     "output_type": "stream",
     "text": [
      "\n",
      "raining: 100%|██████████| 686/686 [01:22<00:00,  8.35it/s]"
     ]
    },
    {
     "name": "stdout",
     "output_type": "stream",
     "text": [
      "Avg Generator Loss: 13.8494, Avg Discriminator Loss: 0.2514\n"
     ]
    },
    {
     "name": "stderr",
     "output_type": "stream",
     "text": [
      "\n",
      "valuating: 100%|██████████| 172/172 [00:10<00:00, 15.99it/s]"
     ]
    },
    {
     "name": "stdout",
     "output_type": "stream",
     "text": [
      "Avg L1 Loss: 0.0323, Avg PSNR: 26.76, Avg SSIM: 0.8254\n",
      "Epoch 29/50\n"
     ]
    },
    {
     "name": "stderr",
     "output_type": "stream",
     "text": [
      "\n",
      "raining: 100%|██████████| 686/686 [01:21<00:00,  8.40it/s]"
     ]
    },
    {
     "name": "stdout",
     "output_type": "stream",
     "text": [
      "Avg Generator Loss: 14.0129, Avg Discriminator Loss: 0.2332\n"
     ]
    },
    {
     "name": "stderr",
     "output_type": "stream",
     "text": [
      "\n",
      "valuating: 100%|██████████| 172/172 [00:11<00:00, 15.46it/s]"
     ]
    },
    {
     "name": "stdout",
     "output_type": "stream",
     "text": [
      "Avg L1 Loss: 0.0399, Avg PSNR: 25.15, Avg SSIM: 0.8077\n",
      "Epoch 30/50\n"
     ]
    },
    {
     "name": "stderr",
     "output_type": "stream",
     "text": [
      "\n",
      "raining: 100%|██████████| 686/686 [01:21<00:00,  8.41it/s]"
     ]
    },
    {
     "name": "stdout",
     "output_type": "stream",
     "text": [
      "Avg Generator Loss: 13.9224, Avg Discriminator Loss: 0.2426\n"
     ]
    },
    {
     "name": "stderr",
     "output_type": "stream",
     "text": [
      "\n",
      "valuating: 100%|██████████| 172/172 [00:10<00:00, 16.06it/s]"
     ]
    },
    {
     "name": "stdout",
     "output_type": "stream",
     "text": [
      "Avg L1 Loss: 0.0348, Avg PSNR: 26.17, Avg SSIM: 0.8081\n",
      "Models saved for Batch Size: 16, Alpha: 300, Epoch: 30\n",
      "Epoch 31/50\n"
     ]
    },
    {
     "name": "stderr",
     "output_type": "stream",
     "text": [
      "\n",
      "raining: 100%|██████████| 686/686 [01:22<00:00,  8.32it/s]"
     ]
    },
    {
     "name": "stdout",
     "output_type": "stream",
     "text": [
      "Avg Generator Loss: 13.6238, Avg Discriminator Loss: 0.2442\n"
     ]
    },
    {
     "name": "stderr",
     "output_type": "stream",
     "text": [
      "\n",
      "valuating: 100%|██████████| 172/172 [00:10<00:00, 15.97it/s]"
     ]
    },
    {
     "name": "stdout",
     "output_type": "stream",
     "text": [
      "Avg L1 Loss: 0.0332, Avg PSNR: 26.15, Avg SSIM: 0.8243\n",
      "Epoch 32/50\n"
     ]
    },
    {
     "name": "stderr",
     "output_type": "stream",
     "text": [
      "\n",
      "raining: 100%|██████████| 686/686 [01:22<00:00,  8.30it/s]"
     ]
    },
    {
     "name": "stdout",
     "output_type": "stream",
     "text": [
      "Avg Generator Loss: 13.8236, Avg Discriminator Loss: 0.2417\n"
     ]
    },
    {
     "name": "stderr",
     "output_type": "stream",
     "text": [
      "\n",
      "valuating: 100%|██████████| 172/172 [00:10<00:00, 16.02it/s]"
     ]
    },
    {
     "name": "stdout",
     "output_type": "stream",
     "text": [
      "Avg L1 Loss: 0.0313, Avg PSNR: 26.84, Avg SSIM: 0.8307\n",
      "Epoch 33/50\n"
     ]
    },
    {
     "name": "stderr",
     "output_type": "stream",
     "text": [
      "\n",
      "raining: 100%|██████████| 686/686 [01:21<00:00,  8.39it/s]"
     ]
    },
    {
     "name": "stdout",
     "output_type": "stream",
     "text": [
      "Avg Generator Loss: 13.2564, Avg Discriminator Loss: 0.2585\n"
     ]
    },
    {
     "name": "stderr",
     "output_type": "stream",
     "text": [
      "\n",
      "valuating: 100%|██████████| 172/172 [00:11<00:00, 15.60it/s]"
     ]
    },
    {
     "name": "stdout",
     "output_type": "stream",
     "text": [
      "Avg L1 Loss: 0.0354, Avg PSNR: 25.78, Avg SSIM: 0.8032\n",
      "Epoch 34/50\n"
     ]
    },
    {
     "name": "stderr",
     "output_type": "stream",
     "text": [
      "\n",
      "raining: 100%|██████████| 686/686 [01:22<00:00,  8.30it/s]"
     ]
    },
    {
     "name": "stdout",
     "output_type": "stream",
     "text": [
      "Avg Generator Loss: 13.2169, Avg Discriminator Loss: 0.2570\n"
     ]
    },
    {
     "name": "stderr",
     "output_type": "stream",
     "text": [
      "\n",
      "valuating: 100%|██████████| 172/172 [00:11<00:00, 15.39it/s]"
     ]
    },
    {
     "name": "stdout",
     "output_type": "stream",
     "text": [
      "Avg L1 Loss: 0.0330, Avg PSNR: 26.55, Avg SSIM: 0.8251\n",
      "Epoch 35/50\n"
     ]
    },
    {
     "name": "stderr",
     "output_type": "stream",
     "text": [
      "\n",
      "raining: 100%|██████████| 686/686 [01:21<00:00,  8.40it/s]"
     ]
    },
    {
     "name": "stdout",
     "output_type": "stream",
     "text": [
      "Avg Generator Loss: 13.1609, Avg Discriminator Loss: 0.2696\n"
     ]
    },
    {
     "name": "stderr",
     "output_type": "stream",
     "text": [
      "\n",
      "valuating: 100%|██████████| 172/172 [00:11<00:00, 15.42it/s]"
     ]
    },
    {
     "name": "stdout",
     "output_type": "stream",
     "text": [
      "Avg L1 Loss: 0.0326, Avg PSNR: 26.46, Avg SSIM: 0.8258\n",
      "Models saved for Batch Size: 16, Alpha: 300, Epoch: 35\n",
      "Epoch 36/50\n"
     ]
    },
    {
     "name": "stderr",
     "output_type": "stream",
     "text": [
      "\n",
      "raining: 100%|██████████| 686/686 [01:22<00:00,  8.27it/s]"
     ]
    },
    {
     "name": "stdout",
     "output_type": "stream",
     "text": [
      "Avg Generator Loss: 12.8725, Avg Discriminator Loss: 0.2827\n"
     ]
    },
    {
     "name": "stderr",
     "output_type": "stream",
     "text": [
      "\n",
      "valuating: 100%|██████████| 172/172 [00:11<00:00, 15.49it/s]"
     ]
    },
    {
     "name": "stdout",
     "output_type": "stream",
     "text": [
      "Avg L1 Loss: 0.0330, Avg PSNR: 26.58, Avg SSIM: 0.8385\n",
      "Epoch 37/50\n"
     ]
    },
    {
     "name": "stderr",
     "output_type": "stream",
     "text": [
      "\n",
      "raining: 100%|██████████| 686/686 [01:23<00:00,  8.25it/s]"
     ]
    },
    {
     "name": "stdout",
     "output_type": "stream",
     "text": [
      "Avg Generator Loss: 12.7467, Avg Discriminator Loss: 0.2906\n"
     ]
    },
    {
     "name": "stderr",
     "output_type": "stream",
     "text": [
      "\n",
      "valuating: 100%|██████████| 172/172 [00:11<00:00, 15.42it/s]"
     ]
    },
    {
     "name": "stdout",
     "output_type": "stream",
     "text": [
      "Avg L1 Loss: 0.0323, Avg PSNR: 26.72, Avg SSIM: 0.8349\n",
      "Epoch 38/50\n"
     ]
    },
    {
     "name": "stderr",
     "output_type": "stream",
     "text": [
      "\n",
      "raining: 100%|██████████| 686/686 [01:23<00:00,  8.26it/s]"
     ]
    },
    {
     "name": "stdout",
     "output_type": "stream",
     "text": [
      "Avg Generator Loss: 12.6845, Avg Discriminator Loss: 0.2826\n"
     ]
    },
    {
     "name": "stderr",
     "output_type": "stream",
     "text": [
      "\n",
      "valuating: 100%|██████████| 172/172 [00:11<00:00, 15.26it/s]"
     ]
    },
    {
     "name": "stdout",
     "output_type": "stream",
     "text": [
      "Avg L1 Loss: 0.0386, Avg PSNR: 24.13, Avg SSIM: 0.8143\n",
      "Epoch 39/50\n"
     ]
    },
    {
     "name": "stderr",
     "output_type": "stream",
     "text": [
      "\n",
      "raining: 100%|██████████| 686/686 [01:22<00:00,  8.37it/s]"
     ]
    },
    {
     "name": "stdout",
     "output_type": "stream",
     "text": [
      "Avg Generator Loss: 12.7885, Avg Discriminator Loss: 0.2808\n"
     ]
    },
    {
     "name": "stderr",
     "output_type": "stream",
     "text": [
      "\n",
      "valuating: 100%|██████████| 172/172 [00:11<00:00, 15.51it/s]"
     ]
    },
    {
     "name": "stdout",
     "output_type": "stream",
     "text": [
      "Avg L1 Loss: 0.0363, Avg PSNR: 25.78, Avg SSIM: 0.8136\n",
      "Epoch 40/50\n"
     ]
    },
    {
     "name": "stderr",
     "output_type": "stream",
     "text": [
      "\n",
      "raining: 100%|██████████| 686/686 [01:21<00:00,  8.39it/s]"
     ]
    },
    {
     "name": "stdout",
     "output_type": "stream",
     "text": [
      "Avg Generator Loss: 12.7148, Avg Discriminator Loss: 0.2717\n"
     ]
    },
    {
     "name": "stderr",
     "output_type": "stream",
     "text": [
      "\n",
      "valuating: 100%|██████████| 172/172 [00:11<00:00, 15.47it/s]"
     ]
    },
    {
     "name": "stdout",
     "output_type": "stream",
     "text": [
      "Avg L1 Loss: 0.0358, Avg PSNR: 25.82, Avg SSIM: 0.8313\n",
      "Models saved for Batch Size: 16, Alpha: 300, Epoch: 40\n",
      "Epoch 41/50\n"
     ]
    },
    {
     "name": "stderr",
     "output_type": "stream",
     "text": [
      "\n",
      "raining: 100%|██████████| 686/686 [01:22<00:00,  8.35it/s]"
     ]
    },
    {
     "name": "stdout",
     "output_type": "stream",
     "text": [
      "Avg Generator Loss: 12.5266, Avg Discriminator Loss: 0.2986\n"
     ]
    },
    {
     "name": "stderr",
     "output_type": "stream",
     "text": [
      "\n",
      "valuating: 100%|██████████| 172/172 [00:11<00:00, 15.61it/s]"
     ]
    },
    {
     "name": "stdout",
     "output_type": "stream",
     "text": [
      "Avg L1 Loss: 0.0323, Avg PSNR: 26.58, Avg SSIM: 0.8314\n",
      "Epoch 42/50\n"
     ]
    },
    {
     "name": "stderr",
     "output_type": "stream",
     "text": [
      "\n",
      "raining: 100%|██████████| 686/686 [01:21<00:00,  8.42it/s]"
     ]
    },
    {
     "name": "stdout",
     "output_type": "stream",
     "text": [
      "Avg Generator Loss: 12.7262, Avg Discriminator Loss: 0.2815\n"
     ]
    },
    {
     "name": "stderr",
     "output_type": "stream",
     "text": [
      "\n",
      "valuating: 100%|██████████| 172/172 [00:11<00:00, 15.38it/s]"
     ]
    },
    {
     "name": "stdout",
     "output_type": "stream",
     "text": [
      "Avg L1 Loss: 0.0312, Avg PSNR: 26.67, Avg SSIM: 0.8400\n",
      "Epoch 43/50\n"
     ]
    },
    {
     "name": "stderr",
     "output_type": "stream",
     "text": [
      "\n",
      "raining: 100%|██████████| 686/686 [01:22<00:00,  8.33it/s]"
     ]
    },
    {
     "name": "stdout",
     "output_type": "stream",
     "text": [
      "Avg Generator Loss: 13.4007, Avg Discriminator Loss: 0.2475\n"
     ]
    },
    {
     "name": "stderr",
     "output_type": "stream",
     "text": [
      "\n",
      "valuating: 100%|██████████| 172/172 [00:10<00:00, 15.97it/s]"
     ]
    },
    {
     "name": "stdout",
     "output_type": "stream",
     "text": [
      "Avg L1 Loss: 0.0316, Avg PSNR: 26.73, Avg SSIM: 0.8393\n",
      "Epoch 44/50\n"
     ]
    },
    {
     "name": "stderr",
     "output_type": "stream",
     "text": [
      "\n",
      "raining: 100%|██████████| 686/686 [01:21<00:00,  8.37it/s]"
     ]
    },
    {
     "name": "stdout",
     "output_type": "stream",
     "text": [
      "Avg Generator Loss: 12.7977, Avg Discriminator Loss: 0.2698\n"
     ]
    },
    {
     "name": "stderr",
     "output_type": "stream",
     "text": [
      "\n",
      "valuating: 100%|██████████| 172/172 [00:10<00:00, 16.18it/s]"
     ]
    },
    {
     "name": "stdout",
     "output_type": "stream",
     "text": [
      "Avg L1 Loss: 0.0311, Avg PSNR: 27.12, Avg SSIM: 0.8473\n",
      "Epoch 45/50\n"
     ]
    },
    {
     "name": "stderr",
     "output_type": "stream",
     "text": [
      "\n",
      "raining: 100%|██████████| 686/686 [01:21<00:00,  8.46it/s]"
     ]
    },
    {
     "name": "stdout",
     "output_type": "stream",
     "text": [
      "Avg Generator Loss: 12.5642, Avg Discriminator Loss: 0.2747\n"
     ]
    },
    {
     "name": "stderr",
     "output_type": "stream",
     "text": [
      "\n",
      "valuating: 100%|██████████| 172/172 [00:10<00:00, 16.08it/s]"
     ]
    },
    {
     "name": "stdout",
     "output_type": "stream",
     "text": [
      "Avg L1 Loss: 0.0328, Avg PSNR: 26.32, Avg SSIM: 0.8253\n",
      "Models saved for Batch Size: 16, Alpha: 300, Epoch: 45\n",
      "Epoch 46/50\n"
     ]
    },
    {
     "name": "stderr",
     "output_type": "stream",
     "text": [
      "\n",
      "raining: 100%|██████████| 686/686 [01:21<00:00,  8.46it/s]"
     ]
    },
    {
     "name": "stdout",
     "output_type": "stream",
     "text": [
      "Avg Generator Loss: 12.2821, Avg Discriminator Loss: 0.2906\n"
     ]
    },
    {
     "name": "stderr",
     "output_type": "stream",
     "text": [
      "\n",
      "valuating: 100%|██████████| 172/172 [00:10<00:00, 16.18it/s]"
     ]
    },
    {
     "name": "stdout",
     "output_type": "stream",
     "text": [
      "Avg L1 Loss: 0.0308, Avg PSNR: 26.95, Avg SSIM: 0.8285\n",
      "Epoch 47/50\n"
     ]
    },
    {
     "name": "stderr",
     "output_type": "stream",
     "text": [
      "\n",
      "raining: 100%|██████████| 686/686 [01:21<00:00,  8.46it/s]"
     ]
    },
    {
     "name": "stdout",
     "output_type": "stream",
     "text": [
      "Avg Generator Loss: 12.4057, Avg Discriminator Loss: 0.2784\n"
     ]
    },
    {
     "name": "stderr",
     "output_type": "stream",
     "text": [
      "\n",
      "valuating: 100%|██████████| 172/172 [00:10<00:00, 16.03it/s]"
     ]
    },
    {
     "name": "stdout",
     "output_type": "stream",
     "text": [
      "Avg L1 Loss: 0.0300, Avg PSNR: 27.21, Avg SSIM: 0.8367\n",
      "Epoch 48/50\n"
     ]
    },
    {
     "name": "stderr",
     "output_type": "stream",
     "text": [
      "\n",
      "raining: 100%|██████████| 686/686 [01:21<00:00,  8.41it/s]"
     ]
    },
    {
     "name": "stdout",
     "output_type": "stream",
     "text": [
      "Avg Generator Loss: 12.4905, Avg Discriminator Loss: 0.2840\n"
     ]
    },
    {
     "name": "stderr",
     "output_type": "stream",
     "text": [
      "\n",
      "valuating: 100%|██████████| 172/172 [00:10<00:00, 15.75it/s]"
     ]
    },
    {
     "name": "stdout",
     "output_type": "stream",
     "text": [
      "Avg L1 Loss: 0.0317, Avg PSNR: 26.37, Avg SSIM: 0.8319\n",
      "Epoch 49/50\n"
     ]
    },
    {
     "name": "stderr",
     "output_type": "stream",
     "text": [
      "\n",
      "raining: 100%|██████████| 686/686 [01:21<00:00,  8.45it/s]"
     ]
    },
    {
     "name": "stdout",
     "output_type": "stream",
     "text": [
      "Avg Generator Loss: 12.8647, Avg Discriminator Loss: 0.2474\n"
     ]
    },
    {
     "name": "stderr",
     "output_type": "stream",
     "text": [
      "\n",
      "valuating: 100%|██████████| 172/172 [00:10<00:00, 15.66it/s]"
     ]
    },
    {
     "name": "stdout",
     "output_type": "stream",
     "text": [
      "Avg L1 Loss: 0.0364, Avg PSNR: 24.69, Avg SSIM: 0.8195\n",
      "Epoch 50/50\n"
     ]
    },
    {
     "name": "stderr",
     "output_type": "stream",
     "text": [
      "\n",
      "raining: 100%|██████████| 686/686 [01:21<00:00,  8.44it/s]"
     ]
    },
    {
     "name": "stdout",
     "output_type": "stream",
     "text": [
      "Avg Generator Loss: 13.6107, Avg Discriminator Loss: 0.2128\n"
     ]
    },
    {
     "name": "stderr",
     "output_type": "stream",
     "text": [
      "\n",
      "valuating: 100%|██████████| 172/172 [00:10<00:00, 16.16it/s]"
     ]
    },
    {
     "name": "stdout",
     "output_type": "stream",
     "text": [
      "Avg L1 Loss: 0.0323, Avg PSNR: 25.46, Avg SSIM: 0.8392\n",
      "Models saved for Batch Size: 16, Alpha: 300, Epoch: 50\n",
      "Testing Batch Size: 8, Alpha: 300\n",
      "Epoch 1/50\n"
     ]
    },
    {
     "name": "stderr",
     "output_type": "stream",
     "text": [
      "\n",
      "raining: 100%|██████████| 1371/1371 [01:26<00:00, 15.91it/s]"
     ]
    },
    {
     "name": "stdout",
     "output_type": "stream",
     "text": [
      "Avg Generator Loss: 26.1951, Avg Discriminator Loss: 0.3068\n"
     ]
    },
    {
     "name": "stderr",
     "output_type": "stream",
     "text": [
      "\n",
      "valuating: 100%|██████████| 343/343 [00:11<00:00, 30.81it/s]"
     ]
    },
    {
     "name": "stdout",
     "output_type": "stream",
     "text": [
      "Avg L1 Loss: 0.0634, Avg PSNR: 21.27, Avg SSIM: 0.6318\n",
      "Models saved for Batch Size: 8, Alpha: 300, Epoch: 1\n",
      "Epoch 2/50\n"
     ]
    },
    {
     "name": "stderr",
     "output_type": "stream",
     "text": [
      "\n",
      "raining: 100%|██████████| 1371/1371 [01:26<00:00, 15.94it/s]"
     ]
    },
    {
     "name": "stdout",
     "output_type": "stream",
     "text": [
      "Avg Generator Loss: 20.6181, Avg Discriminator Loss: 0.1912\n"
     ]
    },
    {
     "name": "stderr",
     "output_type": "stream",
     "text": [
      "\n",
      "valuating: 100%|██████████| 343/343 [00:10<00:00, 31.65it/s]"
     ]
    },
    {
     "name": "stdout",
     "output_type": "stream",
     "text": [
      "Avg L1 Loss: 0.0478, Avg PSNR: 23.48, Avg SSIM: 0.6928\n",
      "Epoch 3/50\n"
     ]
    },
    {
     "name": "stderr",
     "output_type": "stream",
     "text": [
      "\n",
      "raining: 100%|██████████| 1371/1371 [01:25<00:00, 16.05it/s]"
     ]
    },
    {
     "name": "stdout",
     "output_type": "stream",
     "text": [
      "Avg Generator Loss: 19.0633, Avg Discriminator Loss: 0.2116\n"
     ]
    },
    {
     "name": "stderr",
     "output_type": "stream",
     "text": [
      "\n",
      "valuating: 100%|██████████| 343/343 [00:10<00:00, 32.16it/s]"
     ]
    },
    {
     "name": "stdout",
     "output_type": "stream",
     "text": [
      "Avg L1 Loss: 0.0513, Avg PSNR: 22.56, Avg SSIM: 0.7291\n",
      "Epoch 4/50\n"
     ]
    },
    {
     "name": "stderr",
     "output_type": "stream",
     "text": [
      "\n",
      "raining: 100%|██████████| 1371/1371 [01:25<00:00, 16.03it/s]"
     ]
    },
    {
     "name": "stdout",
     "output_type": "stream",
     "text": [
      "Avg Generator Loss: 18.4670, Avg Discriminator Loss: 0.2171\n"
     ]
    },
    {
     "name": "stderr",
     "output_type": "stream",
     "text": [
      "\n",
      "valuating: 100%|██████████| 343/343 [00:10<00:00, 31.68it/s]"
     ]
    },
    {
     "name": "stdout",
     "output_type": "stream",
     "text": [
      "Avg L1 Loss: 0.0575, Avg PSNR: 21.77, Avg SSIM: 0.7220\n",
      "Epoch 5/50\n"
     ]
    },
    {
     "name": "stderr",
     "output_type": "stream",
     "text": [
      "\n",
      "raining: 100%|██████████| 1371/1371 [01:25<00:00, 15.95it/s]"
     ]
    },
    {
     "name": "stdout",
     "output_type": "stream",
     "text": [
      "Avg Generator Loss: 17.7018, Avg Discriminator Loss: 0.2198\n"
     ]
    },
    {
     "name": "stderr",
     "output_type": "stream",
     "text": [
      "\n",
      "valuating: 100%|██████████| 343/343 [00:11<00:00, 29.10it/s]"
     ]
    },
    {
     "name": "stdout",
     "output_type": "stream",
     "text": [
      "Avg L1 Loss: 0.0426, Avg PSNR: 24.47, Avg SSIM: 0.7621\n",
      "Models saved for Batch Size: 8, Alpha: 300, Epoch: 5\n",
      "Epoch 6/50\n"
     ]
    },
    {
     "name": "stderr",
     "output_type": "stream",
     "text": [
      "\n",
      "raining: 100%|██████████| 1371/1371 [01:26<00:00, 15.92it/s]"
     ]
    },
    {
     "name": "stdout",
     "output_type": "stream",
     "text": [
      "Avg Generator Loss: 17.8970, Avg Discriminator Loss: 0.1951\n"
     ]
    },
    {
     "name": "stderr",
     "output_type": "stream",
     "text": [
      "\n",
      "valuating: 100%|██████████| 343/343 [00:10<00:00, 31.83it/s]"
     ]
    },
    {
     "name": "stdout",
     "output_type": "stream",
     "text": [
      "Avg L1 Loss: 0.0478, Avg PSNR: 23.73, Avg SSIM: 0.7614\n",
      "Epoch 7/50\n"
     ]
    },
    {
     "name": "stderr",
     "output_type": "stream",
     "text": [
      "\n",
      "raining: 100%|██████████| 1371/1371 [01:26<00:00, 15.85it/s]"
     ]
    },
    {
     "name": "stdout",
     "output_type": "stream",
     "text": [
      "Avg Generator Loss: 18.5436, Avg Discriminator Loss: 0.1766\n"
     ]
    },
    {
     "name": "stderr",
     "output_type": "stream",
     "text": [
      "\n",
      "valuating: 100%|██████████| 343/343 [00:10<00:00, 31.91it/s]"
     ]
    },
    {
     "name": "stdout",
     "output_type": "stream",
     "text": [
      "Avg L1 Loss: 0.0456, Avg PSNR: 23.78, Avg SSIM: 0.7597\n",
      "Epoch 8/50\n"
     ]
    },
    {
     "name": "stderr",
     "output_type": "stream",
     "text": [
      "\n",
      "raining: 100%|██████████| 1371/1371 [01:26<00:00, 15.90it/s]"
     ]
    },
    {
     "name": "stdout",
     "output_type": "stream",
     "text": [
      "Avg Generator Loss: 17.9893, Avg Discriminator Loss: 0.1836\n"
     ]
    },
    {
     "name": "stderr",
     "output_type": "stream",
     "text": [
      "\n",
      "valuating: 100%|██████████| 343/343 [00:10<00:00, 31.72it/s]"
     ]
    },
    {
     "name": "stdout",
     "output_type": "stream",
     "text": [
      "Avg L1 Loss: 0.0393, Avg PSNR: 24.70, Avg SSIM: 0.7808\n",
      "Epoch 9/50\n"
     ]
    },
    {
     "name": "stderr",
     "output_type": "stream",
     "text": [
      "\n",
      "raining: 100%|██████████| 1371/1371 [01:25<00:00, 16.01it/s]"
     ]
    },
    {
     "name": "stdout",
     "output_type": "stream",
     "text": [
      "Avg Generator Loss: 16.9651, Avg Discriminator Loss: 0.2023\n"
     ]
    },
    {
     "name": "stderr",
     "output_type": "stream",
     "text": [
      "\n",
      "valuating: 100%|██████████| 343/343 [00:11<00:00, 31.03it/s]"
     ]
    },
    {
     "name": "stdout",
     "output_type": "stream",
     "text": [
      "Avg L1 Loss: 0.0413, Avg PSNR: 24.74, Avg SSIM: 0.7902\n",
      "Epoch 10/50\n"
     ]
    },
    {
     "name": "stderr",
     "output_type": "stream",
     "text": [
      "\n",
      "raining: 100%|██████████| 1371/1371 [01:25<00:00, 16.00it/s]"
     ]
    },
    {
     "name": "stdout",
     "output_type": "stream",
     "text": [
      "Avg Generator Loss: 16.7489, Avg Discriminator Loss: 0.1934\n"
     ]
    },
    {
     "name": "stderr",
     "output_type": "stream",
     "text": [
      "\n",
      "valuating: 100%|██████████| 343/343 [00:11<00:00, 31.11it/s]"
     ]
    },
    {
     "name": "stdout",
     "output_type": "stream",
     "text": [
      "Avg L1 Loss: 0.0387, Avg PSNR: 25.37, Avg SSIM: 0.7834\n",
      "Models saved for Batch Size: 8, Alpha: 300, Epoch: 10\n",
      "Epoch 11/50\n"
     ]
    },
    {
     "name": "stderr",
     "output_type": "stream",
     "text": [
      "\n",
      "raining: 100%|██████████| 1371/1371 [01:25<00:00, 15.96it/s]"
     ]
    },
    {
     "name": "stdout",
     "output_type": "stream",
     "text": [
      "Avg Generator Loss: 16.3736, Avg Discriminator Loss: 0.2138\n"
     ]
    },
    {
     "name": "stderr",
     "output_type": "stream",
     "text": [
      "\n",
      "valuating: 100%|██████████| 343/343 [00:10<00:00, 31.81it/s]"
     ]
    },
    {
     "name": "stdout",
     "output_type": "stream",
     "text": [
      "Avg L1 Loss: 0.0376, Avg PSNR: 25.52, Avg SSIM: 0.7977\n",
      "Epoch 12/50\n"
     ]
    },
    {
     "name": "stderr",
     "output_type": "stream",
     "text": [
      "\n",
      "raining: 100%|██████████| 1371/1371 [01:26<00:00, 15.85it/s]"
     ]
    },
    {
     "name": "stdout",
     "output_type": "stream",
     "text": [
      "Avg Generator Loss: 16.1117, Avg Discriminator Loss: 0.2232\n"
     ]
    },
    {
     "name": "stderr",
     "output_type": "stream",
     "text": [
      "\n",
      "valuating: 100%|██████████| 343/343 [00:10<00:00, 31.65it/s]"
     ]
    },
    {
     "name": "stdout",
     "output_type": "stream",
     "text": [
      "Avg L1 Loss: 0.0370, Avg PSNR: 25.46, Avg SSIM: 0.7957\n",
      "Epoch 13/50\n"
     ]
    },
    {
     "name": "stderr",
     "output_type": "stream",
     "text": [
      "\n",
      "raining: 100%|██████████| 1371/1371 [01:26<00:00, 15.84it/s]"
     ]
    },
    {
     "name": "stdout",
     "output_type": "stream",
     "text": [
      "Avg Generator Loss: 16.0690, Avg Discriminator Loss: 0.2040\n"
     ]
    },
    {
     "name": "stderr",
     "output_type": "stream",
     "text": [
      "\n",
      "valuating: 100%|██████████| 343/343 [00:10<00:00, 31.52it/s]"
     ]
    },
    {
     "name": "stdout",
     "output_type": "stream",
     "text": [
      "Avg L1 Loss: 0.0417, Avg PSNR: 24.51, Avg SSIM: 0.7827\n",
      "Epoch 14/50\n"
     ]
    },
    {
     "name": "stderr",
     "output_type": "stream",
     "text": [
      "\n",
      "raining: 100%|██████████| 1371/1371 [01:26<00:00, 15.90it/s]"
     ]
    },
    {
     "name": "stdout",
     "output_type": "stream",
     "text": [
      "Avg Generator Loss: 16.6041, Avg Discriminator Loss: 0.1895\n"
     ]
    },
    {
     "name": "stderr",
     "output_type": "stream",
     "text": [
      "\n",
      "valuating: 100%|██████████| 343/343 [00:10<00:00, 31.87it/s]"
     ]
    },
    {
     "name": "stdout",
     "output_type": "stream",
     "text": [
      "Avg L1 Loss: 0.0427, Avg PSNR: 24.35, Avg SSIM: 0.7831\n",
      "Epoch 15/50\n"
     ]
    },
    {
     "name": "stderr",
     "output_type": "stream",
     "text": [
      "\n",
      "raining: 100%|██████████| 1371/1371 [01:25<00:00, 15.97it/s]"
     ]
    },
    {
     "name": "stdout",
     "output_type": "stream",
     "text": [
      "Avg Generator Loss: 15.4929, Avg Discriminator Loss: 0.2267\n"
     ]
    },
    {
     "name": "stderr",
     "output_type": "stream",
     "text": [
      "\n",
      "valuating: 100%|██████████| 343/343 [00:11<00:00, 31.15it/s]"
     ]
    },
    {
     "name": "stdout",
     "output_type": "stream",
     "text": [
      "Avg L1 Loss: 0.0370, Avg PSNR: 25.35, Avg SSIM: 0.8129\n",
      "Models saved for Batch Size: 8, Alpha: 300, Epoch: 15\n",
      "Epoch 16/50\n"
     ]
    },
    {
     "name": "stderr",
     "output_type": "stream",
     "text": [
      "\n",
      "raining: 100%|██████████| 1371/1371 [01:25<00:00, 16.00it/s]"
     ]
    },
    {
     "name": "stdout",
     "output_type": "stream",
     "text": [
      "Avg Generator Loss: 15.2245, Avg Discriminator Loss: 0.2177\n"
     ]
    },
    {
     "name": "stderr",
     "output_type": "stream",
     "text": [
      "\n",
      "valuating: 100%|██████████| 343/343 [00:11<00:00, 30.75it/s]"
     ]
    },
    {
     "name": "stdout",
     "output_type": "stream",
     "text": [
      "Avg L1 Loss: 0.0354, Avg PSNR: 25.84, Avg SSIM: 0.8095\n",
      "Epoch 17/50\n"
     ]
    },
    {
     "name": "stderr",
     "output_type": "stream",
     "text": [
      "\n",
      "raining: 100%|██████████| 1371/1371 [01:26<00:00, 15.83it/s]"
     ]
    },
    {
     "name": "stdout",
     "output_type": "stream",
     "text": [
      "Avg Generator Loss: 15.2068, Avg Discriminator Loss: 0.2128\n"
     ]
    },
    {
     "name": "stderr",
     "output_type": "stream",
     "text": [
      "\n",
      "valuating: 100%|██████████| 343/343 [00:11<00:00, 30.49it/s]"
     ]
    },
    {
     "name": "stdout",
     "output_type": "stream",
     "text": [
      "Avg L1 Loss: 0.0359, Avg PSNR: 25.64, Avg SSIM: 0.8034\n",
      "Epoch 18/50\n"
     ]
    },
    {
     "name": "stderr",
     "output_type": "stream",
     "text": [
      "\n",
      "raining: 100%|██████████| 1371/1371 [01:27<00:00, 15.72it/s]"
     ]
    },
    {
     "name": "stdout",
     "output_type": "stream",
     "text": [
      "Avg Generator Loss: 14.7610, Avg Discriminator Loss: 0.2233\n"
     ]
    },
    {
     "name": "stderr",
     "output_type": "stream",
     "text": [
      "\n",
      "valuating: 100%|██████████| 343/343 [00:10<00:00, 31.43it/s]"
     ]
    },
    {
     "name": "stdout",
     "output_type": "stream",
     "text": [
      "Avg L1 Loss: 0.0424, Avg PSNR: 24.59, Avg SSIM: 0.7893\n",
      "Epoch 19/50\n"
     ]
    },
    {
     "name": "stderr",
     "output_type": "stream",
     "text": [
      "\n",
      "raining: 100%|██████████| 1371/1371 [01:26<00:00, 15.90it/s]"
     ]
    },
    {
     "name": "stdout",
     "output_type": "stream",
     "text": [
      "Avg Generator Loss: 15.0281, Avg Discriminator Loss: 0.2153\n"
     ]
    },
    {
     "name": "stderr",
     "output_type": "stream",
     "text": [
      "\n",
      "valuating: 100%|██████████| 343/343 [00:10<00:00, 31.22it/s]"
     ]
    },
    {
     "name": "stdout",
     "output_type": "stream",
     "text": [
      "Avg L1 Loss: 0.0350, Avg PSNR: 26.10, Avg SSIM: 0.8089\n",
      "Epoch 20/50\n"
     ]
    },
    {
     "name": "stderr",
     "output_type": "stream",
     "text": [
      "\n",
      "raining: 100%|██████████| 1371/1371 [01:26<00:00, 15.81it/s]"
     ]
    },
    {
     "name": "stdout",
     "output_type": "stream",
     "text": [
      "Avg Generator Loss: 14.9711, Avg Discriminator Loss: 0.1966\n"
     ]
    },
    {
     "name": "stderr",
     "output_type": "stream",
     "text": [
      "\n",
      "valuating: 100%|██████████| 343/343 [00:10<00:00, 31.79it/s]"
     ]
    },
    {
     "name": "stdout",
     "output_type": "stream",
     "text": [
      "Avg L1 Loss: 0.0332, Avg PSNR: 26.29, Avg SSIM: 0.8261\n",
      "Models saved for Batch Size: 8, Alpha: 300, Epoch: 20\n",
      "Epoch 21/50\n"
     ]
    },
    {
     "name": "stderr",
     "output_type": "stream",
     "text": [
      "\n",
      "raining: 100%|██████████| 1371/1371 [01:26<00:00, 15.76it/s]"
     ]
    },
    {
     "name": "stdout",
     "output_type": "stream",
     "text": [
      "Avg Generator Loss: 14.5958, Avg Discriminator Loss: 0.2064\n"
     ]
    },
    {
     "name": "stderr",
     "output_type": "stream",
     "text": [
      "\n",
      "valuating: 100%|██████████| 343/343 [00:11<00:00, 31.14it/s]"
     ]
    },
    {
     "name": "stdout",
     "output_type": "stream",
     "text": [
      "Avg L1 Loss: 0.0353, Avg PSNR: 26.04, Avg SSIM: 0.8124\n",
      "Epoch 22/50\n"
     ]
    },
    {
     "name": "stderr",
     "output_type": "stream",
     "text": [
      "\n",
      "raining: 100%|██████████| 1371/1371 [01:26<00:00, 15.88it/s]"
     ]
    },
    {
     "name": "stdout",
     "output_type": "stream",
     "text": [
      "Avg Generator Loss: 14.5739, Avg Discriminator Loss: 0.2134\n"
     ]
    },
    {
     "name": "stderr",
     "output_type": "stream",
     "text": [
      "\n",
      "valuating: 100%|██████████| 343/343 [00:10<00:00, 31.51it/s]"
     ]
    },
    {
     "name": "stdout",
     "output_type": "stream",
     "text": [
      "Avg L1 Loss: 0.0323, Avg PSNR: 26.65, Avg SSIM: 0.8286\n",
      "Epoch 23/50\n"
     ]
    },
    {
     "name": "stderr",
     "output_type": "stream",
     "text": [
      "\n",
      "raining: 100%|██████████| 1371/1371 [01:26<00:00, 15.90it/s]"
     ]
    },
    {
     "name": "stdout",
     "output_type": "stream",
     "text": [
      "Avg Generator Loss: 14.2204, Avg Discriminator Loss: 0.2214\n"
     ]
    },
    {
     "name": "stderr",
     "output_type": "stream",
     "text": [
      "\n",
      "valuating: 100%|██████████| 343/343 [00:10<00:00, 31.55it/s]"
     ]
    },
    {
     "name": "stdout",
     "output_type": "stream",
     "text": [
      "Avg L1 Loss: 0.0332, Avg PSNR: 26.33, Avg SSIM: 0.8203\n",
      "Epoch 24/50\n"
     ]
    },
    {
     "name": "stderr",
     "output_type": "stream",
     "text": [
      "\n",
      "raining: 100%|██████████| 1371/1371 [01:26<00:00, 15.84it/s]"
     ]
    },
    {
     "name": "stdout",
     "output_type": "stream",
     "text": [
      "Avg Generator Loss: 14.4667, Avg Discriminator Loss: 0.2142\n"
     ]
    },
    {
     "name": "stderr",
     "output_type": "stream",
     "text": [
      "\n",
      "valuating: 100%|██████████| 343/343 [00:11<00:00, 30.83it/s]"
     ]
    },
    {
     "name": "stdout",
     "output_type": "stream",
     "text": [
      "Avg L1 Loss: 0.0419, Avg PSNR: 24.02, Avg SSIM: 0.7866\n",
      "Epoch 25/50\n"
     ]
    },
    {
     "name": "stderr",
     "output_type": "stream",
     "text": [
      "\n",
      "raining: 100%|██████████| 1371/1371 [01:26<00:00, 15.83it/s]"
     ]
    },
    {
     "name": "stdout",
     "output_type": "stream",
     "text": [
      "Avg Generator Loss: 15.2031, Avg Discriminator Loss: 0.1931\n"
     ]
    },
    {
     "name": "stderr",
     "output_type": "stream",
     "text": [
      "\n",
      "valuating: 100%|██████████| 343/343 [00:11<00:00, 30.14it/s]"
     ]
    },
    {
     "name": "stdout",
     "output_type": "stream",
     "text": [
      "Avg L1 Loss: 0.0367, Avg PSNR: 25.48, Avg SSIM: 0.8188\n",
      "Models saved for Batch Size: 8, Alpha: 300, Epoch: 25\n",
      "Epoch 26/50\n"
     ]
    },
    {
     "name": "stderr",
     "output_type": "stream",
     "text": [
      "\n",
      "raining: 100%|██████████| 1371/1371 [01:26<00:00, 15.88it/s]"
     ]
    },
    {
     "name": "stdout",
     "output_type": "stream",
     "text": [
      "Avg Generator Loss: 16.1850, Avg Discriminator Loss: 0.1498\n"
     ]
    },
    {
     "name": "stderr",
     "output_type": "stream",
     "text": [
      "\n",
      "valuating: 100%|██████████| 343/343 [00:11<00:00, 30.82it/s]"
     ]
    },
    {
     "name": "stdout",
     "output_type": "stream",
     "text": [
      "Avg L1 Loss: 0.0376, Avg PSNR: 25.19, Avg SSIM: 0.8258\n",
      "Epoch 27/50\n"
     ]
    },
    {
     "name": "stderr",
     "output_type": "stream",
     "text": [
      "\n",
      "raining: 100%|██████████| 1371/1371 [01:26<00:00, 15.86it/s]"
     ]
    },
    {
     "name": "stdout",
     "output_type": "stream",
     "text": [
      "Avg Generator Loss: 15.5372, Avg Discriminator Loss: 0.1812\n"
     ]
    },
    {
     "name": "stderr",
     "output_type": "stream",
     "text": [
      "\n",
      "valuating: 100%|██████████| 343/343 [00:11<00:00, 30.70it/s]"
     ]
    },
    {
     "name": "stdout",
     "output_type": "stream",
     "text": [
      "Avg L1 Loss: 0.0400, Avg PSNR: 23.93, Avg SSIM: 0.7872\n",
      "Epoch 28/50\n"
     ]
    },
    {
     "name": "stderr",
     "output_type": "stream",
     "text": [
      "\n",
      "raining: 100%|██████████| 1371/1371 [01:26<00:00, 15.82it/s]"
     ]
    },
    {
     "name": "stdout",
     "output_type": "stream",
     "text": [
      "Avg Generator Loss: 15.5735, Avg Discriminator Loss: 0.1601\n"
     ]
    },
    {
     "name": "stderr",
     "output_type": "stream",
     "text": [
      "\n",
      "valuating: 100%|██████████| 343/343 [00:11<00:00, 30.95it/s]"
     ]
    },
    {
     "name": "stdout",
     "output_type": "stream",
     "text": [
      "Avg L1 Loss: 0.0348, Avg PSNR: 25.12, Avg SSIM: 0.8219\n",
      "Epoch 29/50\n"
     ]
    },
    {
     "name": "stderr",
     "output_type": "stream",
     "text": [
      "\n",
      "raining: 100%|██████████| 1371/1371 [01:26<00:00, 15.82it/s]"
     ]
    },
    {
     "name": "stdout",
     "output_type": "stream",
     "text": [
      "Avg Generator Loss: 14.6608, Avg Discriminator Loss: 0.1849\n"
     ]
    },
    {
     "name": "stderr",
     "output_type": "stream",
     "text": [
      "\n",
      "valuating: 100%|██████████| 343/343 [00:11<00:00, 30.36it/s]"
     ]
    },
    {
     "name": "stdout",
     "output_type": "stream",
     "text": [
      "Avg L1 Loss: 0.0338, Avg PSNR: 26.40, Avg SSIM: 0.8214\n",
      "Epoch 30/50\n"
     ]
    },
    {
     "name": "stderr",
     "output_type": "stream",
     "text": [
      "\n",
      "raining: 100%|██████████| 1371/1371 [01:26<00:00, 15.91it/s]"
     ]
    },
    {
     "name": "stdout",
     "output_type": "stream",
     "text": [
      "Avg Generator Loss: 14.8110, Avg Discriminator Loss: 0.1776\n"
     ]
    },
    {
     "name": "stderr",
     "output_type": "stream",
     "text": [
      "\n",
      "valuating: 100%|██████████| 343/343 [00:11<00:00, 30.93it/s]"
     ]
    },
    {
     "name": "stdout",
     "output_type": "stream",
     "text": [
      "Avg L1 Loss: 0.0346, Avg PSNR: 25.86, Avg SSIM: 0.8131\n",
      "Models saved for Batch Size: 8, Alpha: 300, Epoch: 30\n",
      "Epoch 31/50\n"
     ]
    },
    {
     "name": "stderr",
     "output_type": "stream",
     "text": [
      "\n",
      "raining: 100%|██████████| 1371/1371 [01:26<00:00, 15.82it/s]"
     ]
    },
    {
     "name": "stdout",
     "output_type": "stream",
     "text": [
      "Avg Generator Loss: 15.4771, Avg Discriminator Loss: 0.1539\n"
     ]
    },
    {
     "name": "stderr",
     "output_type": "stream",
     "text": [
      "\n",
      "valuating: 100%|██████████| 343/343 [00:11<00:00, 30.91it/s]"
     ]
    },
    {
     "name": "stdout",
     "output_type": "stream",
     "text": [
      "Avg L1 Loss: 0.0338, Avg PSNR: 25.95, Avg SSIM: 0.8206\n",
      "Epoch 32/50\n"
     ]
    },
    {
     "name": "stderr",
     "output_type": "stream",
     "text": [
      "\n",
      "raining: 100%|██████████| 1371/1371 [01:26<00:00, 15.81it/s]"
     ]
    },
    {
     "name": "stdout",
     "output_type": "stream",
     "text": [
      "Avg Generator Loss: 15.4710, Avg Discriminator Loss: 0.1564\n"
     ]
    },
    {
     "name": "stderr",
     "output_type": "stream",
     "text": [
      "\n",
      "valuating: 100%|██████████| 343/343 [00:10<00:00, 31.94it/s]"
     ]
    },
    {
     "name": "stdout",
     "output_type": "stream",
     "text": [
      "Avg L1 Loss: 0.0336, Avg PSNR: 26.39, Avg SSIM: 0.8270\n",
      "Epoch 33/50\n"
     ]
    },
    {
     "name": "stderr",
     "output_type": "stream",
     "text": [
      "\n",
      "raining: 100%|██████████| 1371/1371 [01:25<00:00, 15.97it/s]"
     ]
    },
    {
     "name": "stdout",
     "output_type": "stream",
     "text": [
      "Avg Generator Loss: 14.8777, Avg Discriminator Loss: 0.1584\n"
     ]
    },
    {
     "name": "stderr",
     "output_type": "stream",
     "text": [
      "\n",
      "valuating: 100%|██████████| 343/343 [00:11<00:00, 31.13it/s]"
     ]
    },
    {
     "name": "stdout",
     "output_type": "stream",
     "text": [
      "Avg L1 Loss: 0.0306, Avg PSNR: 26.88, Avg SSIM: 0.8380\n",
      "Epoch 34/50\n"
     ]
    },
    {
     "name": "stderr",
     "output_type": "stream",
     "text": [
      "\n",
      "raining: 100%|██████████| 1371/1371 [01:27<00:00, 15.73it/s]"
     ]
    },
    {
     "name": "stdout",
     "output_type": "stream",
     "text": [
      "Avg Generator Loss: 14.7448, Avg Discriminator Loss: 0.1692\n"
     ]
    },
    {
     "name": "stderr",
     "output_type": "stream",
     "text": [
      "\n",
      "valuating: 100%|██████████| 343/343 [00:11<00:00, 30.83it/s]"
     ]
    },
    {
     "name": "stdout",
     "output_type": "stream",
     "text": [
      "Avg L1 Loss: 0.0333, Avg PSNR: 25.98, Avg SSIM: 0.8217\n",
      "Epoch 35/50\n"
     ]
    },
    {
     "name": "stderr",
     "output_type": "stream",
     "text": [
      "\n",
      "raining: 100%|██████████| 1371/1371 [01:26<00:00, 15.82it/s]"
     ]
    },
    {
     "name": "stdout",
     "output_type": "stream",
     "text": [
      "Avg Generator Loss: 14.4439, Avg Discriminator Loss: 0.1801\n"
     ]
    },
    {
     "name": "stderr",
     "output_type": "stream",
     "text": [
      "\n",
      "valuating: 100%|██████████| 343/343 [00:10<00:00, 31.22it/s]"
     ]
    },
    {
     "name": "stdout",
     "output_type": "stream",
     "text": [
      "Avg L1 Loss: 0.0322, Avg PSNR: 26.47, Avg SSIM: 0.8330\n",
      "Models saved for Batch Size: 8, Alpha: 300, Epoch: 35\n",
      "Epoch 36/50\n"
     ]
    },
    {
     "name": "stderr",
     "output_type": "stream",
     "text": [
      "\n",
      "raining: 100%|██████████| 1371/1371 [01:26<00:00, 15.81it/s]"
     ]
    },
    {
     "name": "stdout",
     "output_type": "stream",
     "text": [
      "Avg Generator Loss: 14.5841, Avg Discriminator Loss: 0.1700\n"
     ]
    },
    {
     "name": "stderr",
     "output_type": "stream",
     "text": [
      "\n",
      "valuating: 100%|██████████| 343/343 [00:10<00:00, 31.29it/s]"
     ]
    },
    {
     "name": "stdout",
     "output_type": "stream",
     "text": [
      "Avg L1 Loss: 0.0308, Avg PSNR: 26.88, Avg SSIM: 0.8370\n",
      "Epoch 37/50\n"
     ]
    },
    {
     "name": "stderr",
     "output_type": "stream",
     "text": [
      "\n",
      "raining: 100%|██████████| 1371/1371 [01:27<00:00, 15.70it/s]"
     ]
    },
    {
     "name": "stdout",
     "output_type": "stream",
     "text": [
      "Avg Generator Loss: 15.0520, Avg Discriminator Loss: 0.1630\n"
     ]
    },
    {
     "name": "stderr",
     "output_type": "stream",
     "text": [
      "\n",
      "valuating: 100%|██████████| 343/343 [00:10<00:00, 31.47it/s]"
     ]
    },
    {
     "name": "stdout",
     "output_type": "stream",
     "text": [
      "Avg L1 Loss: 0.0321, Avg PSNR: 26.28, Avg SSIM: 0.8287\n",
      "Epoch 38/50\n"
     ]
    },
    {
     "name": "stderr",
     "output_type": "stream",
     "text": [
      "\n",
      "raining: 100%|██████████| 1371/1371 [01:26<00:00, 15.88it/s]"
     ]
    },
    {
     "name": "stdout",
     "output_type": "stream",
     "text": [
      "Avg Generator Loss: 14.5032, Avg Discriminator Loss: 0.1773\n"
     ]
    },
    {
     "name": "stderr",
     "output_type": "stream",
     "text": [
      "\n",
      "valuating: 100%|██████████| 343/343 [00:11<00:00, 29.65it/s]"
     ]
    },
    {
     "name": "stdout",
     "output_type": "stream",
     "text": [
      "Avg L1 Loss: 0.0356, Avg PSNR: 25.83, Avg SSIM: 0.8327\n",
      "Epoch 39/50\n"
     ]
    },
    {
     "name": "stderr",
     "output_type": "stream",
     "text": [
      "\n",
      "raining: 100%|██████████| 1371/1371 [01:27<00:00, 15.68it/s]"
     ]
    },
    {
     "name": "stdout",
     "output_type": "stream",
     "text": [
      "Avg Generator Loss: 14.4996, Avg Discriminator Loss: 0.1778\n"
     ]
    },
    {
     "name": "stderr",
     "output_type": "stream",
     "text": [
      "\n",
      "valuating: 100%|██████████| 343/343 [00:11<00:00, 31.18it/s]"
     ]
    },
    {
     "name": "stdout",
     "output_type": "stream",
     "text": [
      "Avg L1 Loss: 0.0329, Avg PSNR: 26.47, Avg SSIM: 0.8317\n",
      "Epoch 40/50\n"
     ]
    },
    {
     "name": "stderr",
     "output_type": "stream",
     "text": [
      "\n",
      "raining: 100%|██████████| 1371/1371 [01:26<00:00, 15.78it/s]"
     ]
    },
    {
     "name": "stdout",
     "output_type": "stream",
     "text": [
      "Avg Generator Loss: 14.3127, Avg Discriminator Loss: 0.1846\n"
     ]
    },
    {
     "name": "stderr",
     "output_type": "stream",
     "text": [
      "\n",
      "valuating: 100%|██████████| 343/343 [00:11<00:00, 30.69it/s]"
     ]
    },
    {
     "name": "stdout",
     "output_type": "stream",
     "text": [
      "Avg L1 Loss: 0.0313, Avg PSNR: 26.74, Avg SSIM: 0.8405\n",
      "Models saved for Batch Size: 8, Alpha: 300, Epoch: 40\n",
      "Epoch 41/50\n"
     ]
    },
    {
     "name": "stderr",
     "output_type": "stream",
     "text": [
      "\n",
      "raining: 100%|██████████| 1371/1371 [01:26<00:00, 15.82it/s]"
     ]
    },
    {
     "name": "stdout",
     "output_type": "stream",
     "text": [
      "Avg Generator Loss: 14.7973, Avg Discriminator Loss: 0.1579\n"
     ]
    },
    {
     "name": "stderr",
     "output_type": "stream",
     "text": [
      "\n",
      "valuating: 100%|██████████| 343/343 [00:11<00:00, 30.12it/s]"
     ]
    },
    {
     "name": "stdout",
     "output_type": "stream",
     "text": [
      "Avg L1 Loss: 0.0311, Avg PSNR: 26.58, Avg SSIM: 0.8392\n",
      "Epoch 42/50\n"
     ]
    },
    {
     "name": "stderr",
     "output_type": "stream",
     "text": [
      "\n",
      "raining: 100%|██████████| 1371/1371 [01:26<00:00, 15.91it/s]"
     ]
    },
    {
     "name": "stdout",
     "output_type": "stream",
     "text": [
      "Avg Generator Loss: 14.9650, Avg Discriminator Loss: 0.1662\n"
     ]
    },
    {
     "name": "stderr",
     "output_type": "stream",
     "text": [
      "\n",
      "valuating: 100%|██████████| 343/343 [00:11<00:00, 30.95it/s]"
     ]
    },
    {
     "name": "stdout",
     "output_type": "stream",
     "text": [
      "Avg L1 Loss: 0.0306, Avg PSNR: 26.80, Avg SSIM: 0.8422\n",
      "Epoch 43/50\n"
     ]
    },
    {
     "name": "stderr",
     "output_type": "stream",
     "text": [
      "\n",
      "raining: 100%|██████████| 1371/1371 [01:26<00:00, 15.90it/s]"
     ]
    },
    {
     "name": "stdout",
     "output_type": "stream",
     "text": [
      "Avg Generator Loss: 14.1276, Avg Discriminator Loss: 0.1866\n"
     ]
    },
    {
     "name": "stderr",
     "output_type": "stream",
     "text": [
      "\n",
      "valuating: 100%|██████████| 343/343 [00:10<00:00, 31.59it/s]"
     ]
    },
    {
     "name": "stdout",
     "output_type": "stream",
     "text": [
      "Avg L1 Loss: 0.0306, Avg PSNR: 26.84, Avg SSIM: 0.8388\n",
      "Epoch 44/50\n"
     ]
    },
    {
     "name": "stderr",
     "output_type": "stream",
     "text": [
      "\n",
      "raining: 100%|██████████| 1371/1371 [01:26<00:00, 15.87it/s]"
     ]
    },
    {
     "name": "stdout",
     "output_type": "stream",
     "text": [
      "Avg Generator Loss: 14.0931, Avg Discriminator Loss: 0.1827\n"
     ]
    },
    {
     "name": "stderr",
     "output_type": "stream",
     "text": [
      "\n",
      "valuating: 100%|██████████| 343/343 [00:10<00:00, 31.23it/s]"
     ]
    },
    {
     "name": "stdout",
     "output_type": "stream",
     "text": [
      "Avg L1 Loss: 0.0311, Avg PSNR: 26.91, Avg SSIM: 0.8372\n",
      "Epoch 45/50\n"
     ]
    },
    {
     "name": "stderr",
     "output_type": "stream",
     "text": [
      "\n",
      "raining: 100%|██████████| 1371/1371 [01:26<00:00, 15.86it/s]"
     ]
    },
    {
     "name": "stdout",
     "output_type": "stream",
     "text": [
      "Avg Generator Loss: 14.1540, Avg Discriminator Loss: 0.1800\n"
     ]
    },
    {
     "name": "stderr",
     "output_type": "stream",
     "text": [
      "\n",
      "valuating: 100%|██████████| 343/343 [00:11<00:00, 30.99it/s]"
     ]
    },
    {
     "name": "stdout",
     "output_type": "stream",
     "text": [
      "Avg L1 Loss: 0.0331, Avg PSNR: 25.97, Avg SSIM: 0.8340\n",
      "Models saved for Batch Size: 8, Alpha: 300, Epoch: 45\n",
      "Epoch 46/50\n"
     ]
    },
    {
     "name": "stderr",
     "output_type": "stream",
     "text": [
      "\n",
      "raining: 100%|██████████| 1371/1371 [01:25<00:00, 15.97it/s]"
     ]
    },
    {
     "name": "stdout",
     "output_type": "stream",
     "text": [
      "Avg Generator Loss: 14.2550, Avg Discriminator Loss: 0.1708\n"
     ]
    },
    {
     "name": "stderr",
     "output_type": "stream",
     "text": [
      "\n",
      "valuating: 100%|██████████| 343/343 [00:10<00:00, 31.78it/s]"
     ]
    },
    {
     "name": "stdout",
     "output_type": "stream",
     "text": [
      "Avg L1 Loss: 0.0322, Avg PSNR: 26.25, Avg SSIM: 0.8363\n",
      "Epoch 47/50\n"
     ]
    },
    {
     "name": "stderr",
     "output_type": "stream",
     "text": [
      "\n",
      "raining: 100%|██████████| 1371/1371 [01:26<00:00, 15.88it/s]"
     ]
    },
    {
     "name": "stdout",
     "output_type": "stream",
     "text": [
      "Avg Generator Loss: 14.1951, Avg Discriminator Loss: 0.1742\n"
     ]
    },
    {
     "name": "stderr",
     "output_type": "stream",
     "text": [
      "\n",
      "valuating: 100%|██████████| 343/343 [00:10<00:00, 31.42it/s]"
     ]
    },
    {
     "name": "stdout",
     "output_type": "stream",
     "text": [
      "Avg L1 Loss: 0.0391, Avg PSNR: 25.32, Avg SSIM: 0.8036\n",
      "Epoch 48/50\n"
     ]
    },
    {
     "name": "stderr",
     "output_type": "stream",
     "text": [
      "\n",
      "raining: 100%|██████████| 1371/1371 [01:26<00:00, 15.77it/s]"
     ]
    },
    {
     "name": "stdout",
     "output_type": "stream",
     "text": [
      "Avg Generator Loss: 14.3181, Avg Discriminator Loss: 0.1764\n"
     ]
    },
    {
     "name": "stderr",
     "output_type": "stream",
     "text": [
      "\n",
      "valuating: 100%|██████████| 343/343 [00:11<00:00, 30.97it/s]"
     ]
    },
    {
     "name": "stdout",
     "output_type": "stream",
     "text": [
      "Avg L1 Loss: 0.0313, Avg PSNR: 26.64, Avg SSIM: 0.8482\n",
      "Epoch 49/50\n"
     ]
    },
    {
     "name": "stderr",
     "output_type": "stream",
     "text": [
      "\n",
      "raining: 100%|██████████| 1371/1371 [01:26<00:00, 15.88it/s]"
     ]
    },
    {
     "name": "stdout",
     "output_type": "stream",
     "text": [
      "Avg Generator Loss: 13.9550, Avg Discriminator Loss: 0.1804\n"
     ]
    },
    {
     "name": "stderr",
     "output_type": "stream",
     "text": [
      "\n",
      "valuating: 100%|██████████| 343/343 [00:10<00:00, 31.40it/s]"
     ]
    },
    {
     "name": "stdout",
     "output_type": "stream",
     "text": [
      "Avg L1 Loss: 0.0337, Avg PSNR: 26.31, Avg SSIM: 0.8321\n",
      "Epoch 50/50\n"
     ]
    },
    {
     "name": "stderr",
     "output_type": "stream",
     "text": [
      "\n",
      "raining: 100%|██████████| 1371/1371 [01:26<00:00, 15.83it/s]"
     ]
    },
    {
     "name": "stdout",
     "output_type": "stream",
     "text": [
      "Avg Generator Loss: 14.1783, Avg Discriminator Loss: 0.1669\n"
     ]
    },
    {
     "name": "stderr",
     "output_type": "stream",
     "text": [
      "\n",
      "valuating: 100%|██████████| 343/343 [00:11<00:00, 30.07it/s]"
     ]
    },
    {
     "name": "stdout",
     "output_type": "stream",
     "text": [
      "Avg L1 Loss: 0.0332, Avg PSNR: 26.23, Avg SSIM: 0.8426\n",
      "Models saved for Batch Size: 8, Alpha: 300, Epoch: 50\n",
      "Testing Batch Size: 4, Alpha: 300\n",
      "Epoch 1/50\n"
     ]
    },
    {
     "name": "stderr",
     "output_type": "stream",
     "text": [
      "\n",
      "raining: 100%|██████████| 2742/2742 [01:44<00:00, 26.20it/s]"
     ]
    },
    {
     "name": "stdout",
     "output_type": "stream",
     "text": [
      "Avg Generator Loss: 24.7602, Avg Discriminator Loss: 0.2842\n"
     ]
    },
    {
     "name": "stderr",
     "output_type": "stream",
     "text": [
      "\n",
      "valuating: 100%|██████████| 686/686 [00:12<00:00, 55.42it/s]"
     ]
    },
    {
     "name": "stdout",
     "output_type": "stream",
     "text": [
      "Avg L1 Loss: 0.0910, Avg PSNR: 18.83, Avg SSIM: 0.5758\n",
      "Models saved for Batch Size: 4, Alpha: 300, Epoch: 1\n",
      "Epoch 2/50\n"
     ]
    },
    {
     "name": "stderr",
     "output_type": "stream",
     "text": [
      "\n",
      "raining: 100%|██████████| 2742/2742 [01:45<00:00, 26.02it/s]"
     ]
    },
    {
     "name": "stdout",
     "output_type": "stream",
     "text": [
      "Avg Generator Loss: 18.8190, Avg Discriminator Loss: 0.2440\n"
     ]
    },
    {
     "name": "stderr",
     "output_type": "stream",
     "text": [
      "\n",
      "valuating: 100%|██████████| 686/686 [00:12<00:00, 55.01it/s]"
     ]
    },
    {
     "name": "stdout",
     "output_type": "stream",
     "text": [
      "Avg L1 Loss: 0.0432, Avg PSNR: 24.46, Avg SSIM: 0.7567\n",
      "Epoch 3/50\n"
     ]
    },
    {
     "name": "stderr",
     "output_type": "stream",
     "text": [
      "\n",
      "raining: 100%|██████████| 2742/2742 [01:45<00:00, 25.99it/s]"
     ]
    },
    {
     "name": "stdout",
     "output_type": "stream",
     "text": [
      "Avg Generator Loss: 17.3629, Avg Discriminator Loss: 0.2337\n"
     ]
    },
    {
     "name": "stderr",
     "output_type": "stream",
     "text": [
      "\n",
      "valuating: 100%|██████████| 686/686 [00:12<00:00, 54.55it/s]"
     ]
    },
    {
     "name": "stdout",
     "output_type": "stream",
     "text": [
      "Avg L1 Loss: 0.0448, Avg PSNR: 24.22, Avg SSIM: 0.7764\n",
      "Epoch 4/50\n"
     ]
    },
    {
     "name": "stderr",
     "output_type": "stream",
     "text": [
      "\n",
      "raining: 100%|██████████| 2742/2742 [01:45<00:00, 25.91it/s]"
     ]
    },
    {
     "name": "stdout",
     "output_type": "stream",
     "text": [
      "Avg Generator Loss: 16.9009, Avg Discriminator Loss: 0.2141\n"
     ]
    },
    {
     "name": "stderr",
     "output_type": "stream",
     "text": [
      "\n",
      "valuating: 100%|██████████| 686/686 [00:12<00:00, 54.44it/s]"
     ]
    },
    {
     "name": "stdout",
     "output_type": "stream",
     "text": [
      "Avg L1 Loss: 0.0426, Avg PSNR: 24.44, Avg SSIM: 0.7940\n",
      "Epoch 5/50\n"
     ]
    },
    {
     "name": "stderr",
     "output_type": "stream",
     "text": [
      "\n",
      "raining: 100%|██████████| 2742/2742 [01:45<00:00, 26.04it/s]"
     ]
    },
    {
     "name": "stdout",
     "output_type": "stream",
     "text": [
      "Avg Generator Loss: 16.3756, Avg Discriminator Loss: 0.2248\n"
     ]
    },
    {
     "name": "stderr",
     "output_type": "stream",
     "text": [
      "\n",
      "valuating: 100%|██████████| 686/686 [00:12<00:00, 55.51it/s]"
     ]
    },
    {
     "name": "stdout",
     "output_type": "stream",
     "text": [
      "Avg L1 Loss: 0.0384, Avg PSNR: 25.77, Avg SSIM: 0.8059\n",
      "Models saved for Batch Size: 4, Alpha: 300, Epoch: 5\n",
      "Epoch 6/50\n"
     ]
    },
    {
     "name": "stderr",
     "output_type": "stream",
     "text": [
      "\n",
      "raining: 100%|██████████| 2742/2742 [01:45<00:00, 25.98it/s]"
     ]
    },
    {
     "name": "stdout",
     "output_type": "stream",
     "text": [
      "Avg Generator Loss: 16.0534, Avg Discriminator Loss: 0.2249\n"
     ]
    },
    {
     "name": "stderr",
     "output_type": "stream",
     "text": [
      "\n",
      "valuating: 100%|██████████| 686/686 [00:12<00:00, 54.54it/s]"
     ]
    },
    {
     "name": "stdout",
     "output_type": "stream",
     "text": [
      "Avg L1 Loss: 0.1029, Avg PSNR: 16.18, Avg SSIM: 0.6498\n",
      "Epoch 7/50\n"
     ]
    },
    {
     "name": "stderr",
     "output_type": "stream",
     "text": [
      "\n",
      "raining: 100%|██████████| 2742/2742 [01:46<00:00, 25.66it/s]"
     ]
    },
    {
     "name": "stdout",
     "output_type": "stream",
     "text": [
      "Avg Generator Loss: 15.8069, Avg Discriminator Loss: 0.2185\n"
     ]
    },
    {
     "name": "stderr",
     "output_type": "stream",
     "text": [
      "\n",
      "valuating: 100%|██████████| 686/686 [00:12<00:00, 54.98it/s]"
     ]
    },
    {
     "name": "stdout",
     "output_type": "stream",
     "text": [
      "Avg L1 Loss: 0.0422, Avg PSNR: 25.22, Avg SSIM: 0.7903\n",
      "Epoch 8/50\n"
     ]
    },
    {
     "name": "stderr",
     "output_type": "stream",
     "text": [
      "\n",
      "raining: 100%|██████████| 2742/2742 [01:46<00:00, 25.77it/s]"
     ]
    },
    {
     "name": "stdout",
     "output_type": "stream",
     "text": [
      "Avg Generator Loss: 15.4471, Avg Discriminator Loss: 0.2247\n"
     ]
    },
    {
     "name": "stderr",
     "output_type": "stream",
     "text": [
      "\n",
      "valuating: 100%|██████████| 686/686 [00:12<00:00, 56.99it/s]"
     ]
    },
    {
     "name": "stdout",
     "output_type": "stream",
     "text": [
      "Avg L1 Loss: 0.0367, Avg PSNR: 26.02, Avg SSIM: 0.8097\n",
      "Epoch 9/50\n"
     ]
    },
    {
     "name": "stderr",
     "output_type": "stream",
     "text": [
      "\n",
      "raining: 100%|██████████| 2742/2742 [01:46<00:00, 25.73it/s]"
     ]
    },
    {
     "name": "stdout",
     "output_type": "stream",
     "text": [
      "Avg Generator Loss: 15.2564, Avg Discriminator Loss: 0.2166\n"
     ]
    },
    {
     "name": "stderr",
     "output_type": "stream",
     "text": [
      "\n",
      "valuating: 100%|██████████| 686/686 [00:12<00:00, 54.75it/s]"
     ]
    },
    {
     "name": "stdout",
     "output_type": "stream",
     "text": [
      "Avg L1 Loss: 0.0365, Avg PSNR: 26.04, Avg SSIM: 0.8114\n",
      "Epoch 10/50\n"
     ]
    },
    {
     "name": "stderr",
     "output_type": "stream",
     "text": [
      "\n",
      "raining: 100%|██████████| 2742/2742 [01:46<00:00, 25.84it/s]"
     ]
    },
    {
     "name": "stdout",
     "output_type": "stream",
     "text": [
      "Avg Generator Loss: 14.9816, Avg Discriminator Loss: 0.2186\n"
     ]
    },
    {
     "name": "stderr",
     "output_type": "stream",
     "text": [
      "\n",
      "valuating: 100%|██████████| 686/686 [00:12<00:00, 55.05it/s]"
     ]
    },
    {
     "name": "stdout",
     "output_type": "stream",
     "text": [
      "Avg L1 Loss: 0.0362, Avg PSNR: 25.89, Avg SSIM: 0.8105\n",
      "Models saved for Batch Size: 4, Alpha: 300, Epoch: 10\n",
      "Epoch 11/50\n"
     ]
    },
    {
     "name": "stderr",
     "output_type": "stream",
     "text": [
      "\n",
      "raining: 100%|██████████| 2742/2742 [01:45<00:00, 26.01it/s]"
     ]
    },
    {
     "name": "stdout",
     "output_type": "stream",
     "text": [
      "Avg Generator Loss: 14.7690, Avg Discriminator Loss: 0.2100\n"
     ]
    },
    {
     "name": "stderr",
     "output_type": "stream",
     "text": [
      "\n",
      "valuating: 100%|██████████| 686/686 [00:12<00:00, 54.14it/s]"
     ]
    },
    {
     "name": "stdout",
     "output_type": "stream",
     "text": [
      "Avg L1 Loss: 0.0343, Avg PSNR: 26.61, Avg SSIM: 0.8191\n",
      "Epoch 12/50\n"
     ]
    },
    {
     "name": "stderr",
     "output_type": "stream",
     "text": [
      "\n",
      "raining: 100%|██████████| 2742/2742 [01:45<00:00, 25.94it/s]"
     ]
    },
    {
     "name": "stdout",
     "output_type": "stream",
     "text": [
      "Avg Generator Loss: 14.5463, Avg Discriminator Loss: 0.2127\n"
     ]
    },
    {
     "name": "stderr",
     "output_type": "stream",
     "text": [
      "\n",
      "valuating: 100%|██████████| 686/686 [00:12<00:00, 54.20it/s]"
     ]
    },
    {
     "name": "stdout",
     "output_type": "stream",
     "text": [
      "Avg L1 Loss: 0.0339, Avg PSNR: 26.61, Avg SSIM: 0.8198\n",
      "Epoch 13/50\n"
     ]
    },
    {
     "name": "stderr",
     "output_type": "stream",
     "text": [
      "\n",
      "raining: 100%|██████████| 2742/2742 [01:45<00:00, 26.06it/s]"
     ]
    },
    {
     "name": "stdout",
     "output_type": "stream",
     "text": [
      "Avg Generator Loss: 14.4522, Avg Discriminator Loss: 0.2077\n"
     ]
    },
    {
     "name": "stderr",
     "output_type": "stream",
     "text": [
      "\n",
      "valuating: 100%|██████████| 686/686 [00:12<00:00, 55.70it/s]"
     ]
    },
    {
     "name": "stdout",
     "output_type": "stream",
     "text": [
      "Avg L1 Loss: 0.0361, Avg PSNR: 26.33, Avg SSIM: 0.8233\n",
      "Epoch 14/50\n"
     ]
    },
    {
     "name": "stderr",
     "output_type": "stream",
     "text": [
      "\n",
      "raining: 100%|██████████| 2742/2742 [01:45<00:00, 26.08it/s]"
     ]
    },
    {
     "name": "stdout",
     "output_type": "stream",
     "text": [
      "Avg Generator Loss: 14.2569, Avg Discriminator Loss: 0.2146\n"
     ]
    },
    {
     "name": "stderr",
     "output_type": "stream",
     "text": [
      "\n",
      "valuating: 100%|██████████| 686/686 [00:12<00:00, 55.58it/s]"
     ]
    },
    {
     "name": "stdout",
     "output_type": "stream",
     "text": [
      "Avg L1 Loss: 0.0315, Avg PSNR: 27.22, Avg SSIM: 0.8412\n",
      "Epoch 15/50\n"
     ]
    },
    {
     "name": "stderr",
     "output_type": "stream",
     "text": [
      "\n",
      "raining: 100%|██████████| 2742/2742 [01:44<00:00, 26.17it/s]"
     ]
    },
    {
     "name": "stdout",
     "output_type": "stream",
     "text": [
      "Avg Generator Loss: 14.0267, Avg Discriminator Loss: 0.2205\n"
     ]
    },
    {
     "name": "stderr",
     "output_type": "stream",
     "text": [
      "\n",
      "valuating: 100%|██████████| 686/686 [00:12<00:00, 55.78it/s]"
     ]
    },
    {
     "name": "stdout",
     "output_type": "stream",
     "text": [
      "Avg L1 Loss: 0.0348, Avg PSNR: 26.68, Avg SSIM: 0.8302\n",
      "Models saved for Batch Size: 4, Alpha: 300, Epoch: 15\n",
      "Epoch 16/50\n"
     ]
    },
    {
     "name": "stderr",
     "output_type": "stream",
     "text": [
      "\n",
      "raining: 100%|██████████| 2742/2742 [01:44<00:00, 26.19it/s]"
     ]
    },
    {
     "name": "stdout",
     "output_type": "stream",
     "text": [
      "Avg Generator Loss: 13.8780, Avg Discriminator Loss: 0.2258\n"
     ]
    },
    {
     "name": "stderr",
     "output_type": "stream",
     "text": [
      "\n",
      "valuating: 100%|██████████| 686/686 [00:12<00:00, 55.20it/s]"
     ]
    },
    {
     "name": "stdout",
     "output_type": "stream",
     "text": [
      "Avg L1 Loss: 0.0344, Avg PSNR: 26.61, Avg SSIM: 0.8489\n",
      "Epoch 17/50\n"
     ]
    },
    {
     "name": "stderr",
     "output_type": "stream",
     "text": [
      "\n",
      "raining: 100%|██████████| 2742/2742 [01:45<00:00, 26.10it/s]"
     ]
    },
    {
     "name": "stdout",
     "output_type": "stream",
     "text": [
      "Avg Generator Loss: 13.9099, Avg Discriminator Loss: 0.2159\n"
     ]
    },
    {
     "name": "stderr",
     "output_type": "stream",
     "text": [
      "\n",
      "valuating: 100%|██████████| 686/686 [00:12<00:00, 55.25it/s]"
     ]
    },
    {
     "name": "stdout",
     "output_type": "stream",
     "text": [
      "Avg L1 Loss: 0.0325, Avg PSNR: 27.13, Avg SSIM: 0.8411\n",
      "Epoch 18/50\n"
     ]
    },
    {
     "name": "stderr",
     "output_type": "stream",
     "text": [
      "\n",
      "raining: 100%|██████████| 2742/2742 [01:44<00:00, 26.23it/s]"
     ]
    },
    {
     "name": "stdout",
     "output_type": "stream",
     "text": [
      "Avg Generator Loss: 13.8594, Avg Discriminator Loss: 0.2175\n"
     ]
    },
    {
     "name": "stderr",
     "output_type": "stream",
     "text": [
      "\n",
      "valuating: 100%|██████████| 686/686 [00:12<00:00, 56.40it/s]"
     ]
    },
    {
     "name": "stdout",
     "output_type": "stream",
     "text": [
      "Avg L1 Loss: 0.0333, Avg PSNR: 26.74, Avg SSIM: 0.8254\n",
      "Epoch 19/50\n"
     ]
    },
    {
     "name": "stderr",
     "output_type": "stream",
     "text": [
      "\n",
      "raining: 100%|██████████| 2742/2742 [01:44<00:00, 26.33it/s]"
     ]
    },
    {
     "name": "stdout",
     "output_type": "stream",
     "text": [
      "Avg Generator Loss: 13.6942, Avg Discriminator Loss: 0.2198\n"
     ]
    },
    {
     "name": "stderr",
     "output_type": "stream",
     "text": [
      "\n",
      "valuating: 100%|██████████| 686/686 [00:12<00:00, 55.39it/s]"
     ]
    },
    {
     "name": "stdout",
     "output_type": "stream",
     "text": [
      "Avg L1 Loss: 0.0315, Avg PSNR: 27.22, Avg SSIM: 0.8333\n",
      "Epoch 20/50\n"
     ]
    },
    {
     "name": "stderr",
     "output_type": "stream",
     "text": [
      "\n",
      "raining: 100%|██████████| 2742/2742 [01:44<00:00, 26.19it/s]"
     ]
    },
    {
     "name": "stdout",
     "output_type": "stream",
     "text": [
      "Avg Generator Loss: 13.7402, Avg Discriminator Loss: 0.2132\n"
     ]
    },
    {
     "name": "stderr",
     "output_type": "stream",
     "text": [
      "\n",
      "valuating: 100%|██████████| 686/686 [00:12<00:00, 54.43it/s]"
     ]
    },
    {
     "name": "stdout",
     "output_type": "stream",
     "text": [
      "Avg L1 Loss: 0.0314, Avg PSNR: 27.34, Avg SSIM: 0.8436\n",
      "Models saved for Batch Size: 4, Alpha: 300, Epoch: 20\n",
      "Epoch 21/50\n"
     ]
    },
    {
     "name": "stderr",
     "output_type": "stream",
     "text": [
      "\n",
      "raining: 100%|██████████| 2742/2742 [01:44<00:00, 26.31it/s]"
     ]
    },
    {
     "name": "stdout",
     "output_type": "stream",
     "text": [
      "Avg Generator Loss: 13.5394, Avg Discriminator Loss: 0.2171\n"
     ]
    },
    {
     "name": "stderr",
     "output_type": "stream",
     "text": [
      "\n",
      "valuating: 100%|██████████| 686/686 [00:12<00:00, 54.70it/s]"
     ]
    },
    {
     "name": "stdout",
     "output_type": "stream",
     "text": [
      "Avg L1 Loss: 0.0314, Avg PSNR: 27.28, Avg SSIM: 0.8424\n",
      "Epoch 22/50\n"
     ]
    },
    {
     "name": "stderr",
     "output_type": "stream",
     "text": [
      "\n",
      "raining: 100%|██████████| 2742/2742 [01:45<00:00, 26.01it/s]"
     ]
    },
    {
     "name": "stdout",
     "output_type": "stream",
     "text": [
      "Avg Generator Loss: 13.6681, Avg Discriminator Loss: 0.2031\n"
     ]
    },
    {
     "name": "stderr",
     "output_type": "stream",
     "text": [
      "\n",
      "valuating: 100%|██████████| 686/686 [00:12<00:00, 54.73it/s]"
     ]
    },
    {
     "name": "stdout",
     "output_type": "stream",
     "text": [
      "Avg L1 Loss: 0.0324, Avg PSNR: 27.07, Avg SSIM: 0.8380\n",
      "Epoch 23/50\n"
     ]
    },
    {
     "name": "stderr",
     "output_type": "stream",
     "text": [
      "\n",
      "raining: 100%|██████████| 2742/2742 [01:44<00:00, 26.13it/s]"
     ]
    },
    {
     "name": "stdout",
     "output_type": "stream",
     "text": [
      "Avg Generator Loss: 13.6021, Avg Discriminator Loss: 0.2051\n"
     ]
    },
    {
     "name": "stderr",
     "output_type": "stream",
     "text": [
      "\n",
      "valuating: 100%|██████████| 686/686 [00:12<00:00, 54.23it/s]"
     ]
    },
    {
     "name": "stdout",
     "output_type": "stream",
     "text": [
      "Avg L1 Loss: 0.0378, Avg PSNR: 25.89, Avg SSIM: 0.8394\n",
      "Epoch 24/50\n"
     ]
    },
    {
     "name": "stderr",
     "output_type": "stream",
     "text": [
      "\n",
      "raining: 100%|██████████| 2742/2742 [01:45<00:00, 25.99it/s]"
     ]
    },
    {
     "name": "stdout",
     "output_type": "stream",
     "text": [
      "Avg Generator Loss: 13.5378, Avg Discriminator Loss: 0.2005\n"
     ]
    },
    {
     "name": "stderr",
     "output_type": "stream",
     "text": [
      "\n",
      "valuating: 100%|██████████| 686/686 [00:12<00:00, 54.98it/s]"
     ]
    },
    {
     "name": "stdout",
     "output_type": "stream",
     "text": [
      "Avg L1 Loss: 0.0313, Avg PSNR: 27.19, Avg SSIM: 0.8392\n",
      "Epoch 25/50\n"
     ]
    },
    {
     "name": "stderr",
     "output_type": "stream",
     "text": [
      "\n",
      "raining: 100%|██████████| 2742/2742 [01:44<00:00, 26.18it/s]"
     ]
    },
    {
     "name": "stdout",
     "output_type": "stream",
     "text": [
      "Avg Generator Loss: 13.6284, Avg Discriminator Loss: 0.1880\n"
     ]
    },
    {
     "name": "stderr",
     "output_type": "stream",
     "text": [
      "\n",
      "valuating: 100%|██████████| 686/686 [00:12<00:00, 56.99it/s]"
     ]
    },
    {
     "name": "stdout",
     "output_type": "stream",
     "text": [
      "Avg L1 Loss: 0.0309, Avg PSNR: 27.49, Avg SSIM: 0.8458\n",
      "Models saved for Batch Size: 4, Alpha: 300, Epoch: 25\n",
      "Epoch 26/50\n"
     ]
    },
    {
     "name": "stderr",
     "output_type": "stream",
     "text": [
      "\n",
      "raining: 100%|██████████| 2742/2742 [01:44<00:00, 26.33it/s]"
     ]
    },
    {
     "name": "stdout",
     "output_type": "stream",
     "text": [
      "Avg Generator Loss: 13.4659, Avg Discriminator Loss: 0.1953\n"
     ]
    },
    {
     "name": "stderr",
     "output_type": "stream",
     "text": [
      "\n",
      "valuating: 100%|██████████| 686/686 [00:12<00:00, 54.53it/s]"
     ]
    },
    {
     "name": "stdout",
     "output_type": "stream",
     "text": [
      "Avg L1 Loss: 0.0328, Avg PSNR: 26.98, Avg SSIM: 0.8413\n",
      "Epoch 27/50\n"
     ]
    },
    {
     "name": "stderr",
     "output_type": "stream",
     "text": [
      "\n",
      "raining: 100%|██████████| 2742/2742 [01:45<00:00, 26.06it/s]"
     ]
    },
    {
     "name": "stdout",
     "output_type": "stream",
     "text": [
      "Avg Generator Loss: 13.4392, Avg Discriminator Loss: 0.1912\n"
     ]
    },
    {
     "name": "stderr",
     "output_type": "stream",
     "text": [
      "\n",
      "valuating: 100%|██████████| 686/686 [00:12<00:00, 54.85it/s]"
     ]
    },
    {
     "name": "stdout",
     "output_type": "stream",
     "text": [
      "Avg L1 Loss: 0.0313, Avg PSNR: 27.39, Avg SSIM: 0.8461\n",
      "Epoch 28/50\n"
     ]
    },
    {
     "name": "stderr",
     "output_type": "stream",
     "text": [
      "\n",
      "raining: 100%|██████████| 2742/2742 [01:44<00:00, 26.32it/s]"
     ]
    },
    {
     "name": "stdout",
     "output_type": "stream",
     "text": [
      "Avg Generator Loss: 13.6242, Avg Discriminator Loss: 0.1877\n"
     ]
    },
    {
     "name": "stderr",
     "output_type": "stream",
     "text": [
      "\n",
      "valuating: 100%|██████████| 686/686 [00:12<00:00, 54.54it/s]"
     ]
    },
    {
     "name": "stdout",
     "output_type": "stream",
     "text": [
      "Avg L1 Loss: 0.0304, Avg PSNR: 27.50, Avg SSIM: 0.8483\n",
      "Epoch 29/50\n"
     ]
    },
    {
     "name": "stderr",
     "output_type": "stream",
     "text": [
      "\n",
      "raining: 100%|██████████| 2742/2742 [01:45<00:00, 26.01it/s]"
     ]
    },
    {
     "name": "stdout",
     "output_type": "stream",
     "text": [
      "Avg Generator Loss: 13.3853, Avg Discriminator Loss: 0.1921\n"
     ]
    },
    {
     "name": "stderr",
     "output_type": "stream",
     "text": [
      "\n",
      "valuating: 100%|██████████| 686/686 [00:12<00:00, 56.61it/s]"
     ]
    },
    {
     "name": "stdout",
     "output_type": "stream",
     "text": [
      "Avg L1 Loss: 0.0329, Avg PSNR: 27.00, Avg SSIM: 0.8375\n",
      "Epoch 30/50\n"
     ]
    },
    {
     "name": "stderr",
     "output_type": "stream",
     "text": [
      "\n",
      "raining: 100%|██████████| 2742/2742 [01:44<00:00, 26.23it/s]"
     ]
    },
    {
     "name": "stdout",
     "output_type": "stream",
     "text": [
      "Avg Generator Loss: 13.3833, Avg Discriminator Loss: 0.1796\n"
     ]
    },
    {
     "name": "stderr",
     "output_type": "stream",
     "text": [
      "\n",
      "valuating: 100%|██████████| 686/686 [00:12<00:00, 54.93it/s]"
     ]
    },
    {
     "name": "stdout",
     "output_type": "stream",
     "text": [
      "Avg L1 Loss: 0.0296, Avg PSNR: 27.70, Avg SSIM: 0.8524\n",
      "Models saved for Batch Size: 4, Alpha: 300, Epoch: 30\n",
      "Epoch 31/50\n"
     ]
    },
    {
     "name": "stderr",
     "output_type": "stream",
     "text": [
      "\n",
      "raining: 100%|██████████| 2742/2742 [01:45<00:00, 26.08it/s]"
     ]
    },
    {
     "name": "stdout",
     "output_type": "stream",
     "text": [
      "Avg Generator Loss: 13.5887, Avg Discriminator Loss: 0.1792\n"
     ]
    },
    {
     "name": "stderr",
     "output_type": "stream",
     "text": [
      "\n",
      "valuating: 100%|██████████| 686/686 [00:12<00:00, 55.53it/s]"
     ]
    },
    {
     "name": "stdout",
     "output_type": "stream",
     "text": [
      "Avg L1 Loss: 0.0304, Avg PSNR: 27.57, Avg SSIM: 0.8562\n",
      "Epoch 32/50\n"
     ]
    },
    {
     "name": "stderr",
     "output_type": "stream",
     "text": [
      "\n",
      "raining: 100%|██████████| 2742/2742 [01:44<00:00, 26.13it/s]"
     ]
    },
    {
     "name": "stdout",
     "output_type": "stream",
     "text": [
      "Avg Generator Loss: 13.4529, Avg Discriminator Loss: 0.1778\n"
     ]
    },
    {
     "name": "stderr",
     "output_type": "stream",
     "text": [
      "\n",
      "valuating: 100%|██████████| 686/686 [00:12<00:00, 55.61it/s]"
     ]
    },
    {
     "name": "stdout",
     "output_type": "stream",
     "text": [
      "Avg L1 Loss: 0.0308, Avg PSNR: 27.59, Avg SSIM: 0.8554\n",
      "Epoch 33/50\n"
     ]
    },
    {
     "name": "stderr",
     "output_type": "stream",
     "text": [
      "\n",
      "raining: 100%|██████████| 2742/2742 [01:44<00:00, 26.26it/s]"
     ]
    },
    {
     "name": "stdout",
     "output_type": "stream",
     "text": [
      "Avg Generator Loss: 13.5856, Avg Discriminator Loss: 0.1645\n"
     ]
    },
    {
     "name": "stderr",
     "output_type": "stream",
     "text": [
      "\n",
      "valuating: 100%|██████████| 686/686 [00:12<00:00, 54.66it/s]"
     ]
    },
    {
     "name": "stdout",
     "output_type": "stream",
     "text": [
      "Avg L1 Loss: 0.0308, Avg PSNR: 27.33, Avg SSIM: 0.8447\n",
      "Epoch 34/50\n"
     ]
    },
    {
     "name": "stderr",
     "output_type": "stream",
     "text": [
      "\n",
      "raining: 100%|██████████| 2742/2742 [01:44<00:00, 26.29it/s]"
     ]
    },
    {
     "name": "stdout",
     "output_type": "stream",
     "text": [
      "Avg Generator Loss: 13.5600, Avg Discriminator Loss: 0.1711\n"
     ]
    },
    {
     "name": "stderr",
     "output_type": "stream",
     "text": [
      "\n",
      "valuating: 100%|██████████| 686/686 [00:12<00:00, 57.10it/s]"
     ]
    },
    {
     "name": "stdout",
     "output_type": "stream",
     "text": [
      "Avg L1 Loss: 0.0304, Avg PSNR: 27.55, Avg SSIM: 0.8523\n",
      "Epoch 35/50\n"
     ]
    },
    {
     "name": "stderr",
     "output_type": "stream",
     "text": [
      "\n",
      "raining: 100%|██████████| 2742/2742 [01:45<00:00, 25.98it/s]"
     ]
    },
    {
     "name": "stdout",
     "output_type": "stream",
     "text": [
      "Avg Generator Loss: 13.4321, Avg Discriminator Loss: 0.1661\n"
     ]
    },
    {
     "name": "stderr",
     "output_type": "stream",
     "text": [
      "\n",
      "valuating: 100%|██████████| 686/686 [00:12<00:00, 54.89it/s]"
     ]
    },
    {
     "name": "stdout",
     "output_type": "stream",
     "text": [
      "Avg L1 Loss: 0.0300, Avg PSNR: 27.65, Avg SSIM: 0.8477\n",
      "Models saved for Batch Size: 4, Alpha: 300, Epoch: 35\n",
      "Epoch 36/50\n"
     ]
    },
    {
     "name": "stderr",
     "output_type": "stream",
     "text": [
      "\n",
      "raining: 100%|██████████| 2742/2742 [01:45<00:00, 26.02it/s]"
     ]
    },
    {
     "name": "stdout",
     "output_type": "stream",
     "text": [
      "Avg Generator Loss: 13.5249, Avg Discriminator Loss: 0.1700\n"
     ]
    },
    {
     "name": "stderr",
     "output_type": "stream",
     "text": [
      "\n",
      "valuating: 100%|██████████| 686/686 [00:12<00:00, 54.85it/s]"
     ]
    },
    {
     "name": "stdout",
     "output_type": "stream",
     "text": [
      "Avg L1 Loss: 0.0293, Avg PSNR: 27.80, Avg SSIM: 0.8551\n",
      "Epoch 37/50\n"
     ]
    },
    {
     "name": "stderr",
     "output_type": "stream",
     "text": [
      "\n",
      "raining: 100%|██████████| 2742/2742 [01:44<00:00, 26.27it/s]"
     ]
    },
    {
     "name": "stdout",
     "output_type": "stream",
     "text": [
      "Avg Generator Loss: 13.5609, Avg Discriminator Loss: 0.1627\n"
     ]
    },
    {
     "name": "stderr",
     "output_type": "stream",
     "text": [
      "\n",
      "valuating: 100%|██████████| 686/686 [00:12<00:00, 54.37it/s]"
     ]
    },
    {
     "name": "stdout",
     "output_type": "stream",
     "text": [
      "Avg L1 Loss: 0.0305, Avg PSNR: 27.77, Avg SSIM: 0.8566\n",
      "Epoch 38/50\n"
     ]
    },
    {
     "name": "stderr",
     "output_type": "stream",
     "text": [
      "\n",
      "raining: 100%|██████████| 2742/2742 [01:45<00:00, 26.11it/s]"
     ]
    },
    {
     "name": "stdout",
     "output_type": "stream",
     "text": [
      "Avg Generator Loss: 13.5130, Avg Discriminator Loss: 0.1550\n"
     ]
    },
    {
     "name": "stderr",
     "output_type": "stream",
     "text": [
      "\n",
      "valuating: 100%|██████████| 686/686 [00:12<00:00, 56.74it/s]"
     ]
    },
    {
     "name": "stdout",
     "output_type": "stream",
     "text": [
      "Avg L1 Loss: 0.0298, Avg PSNR: 27.66, Avg SSIM: 0.8503\n",
      "Epoch 39/50\n"
     ]
    },
    {
     "name": "stderr",
     "output_type": "stream",
     "text": [
      "\n",
      "raining: 100%|██████████| 2742/2742 [01:43<00:00, 26.38it/s]"
     ]
    },
    {
     "name": "stdout",
     "output_type": "stream",
     "text": [
      "Avg Generator Loss: 13.5794, Avg Discriminator Loss: 0.1590\n"
     ]
    },
    {
     "name": "stderr",
     "output_type": "stream",
     "text": [
      "\n",
      "valuating: 100%|██████████| 686/686 [00:12<00:00, 56.19it/s]"
     ]
    },
    {
     "name": "stdout",
     "output_type": "stream",
     "text": [
      "Avg L1 Loss: 0.0290, Avg PSNR: 27.98, Avg SSIM: 0.8584\n",
      "Epoch 40/50\n"
     ]
    },
    {
     "name": "stderr",
     "output_type": "stream",
     "text": [
      "\n",
      "raining: 100%|██████████| 2742/2742 [01:44<00:00, 26.18it/s]"
     ]
    },
    {
     "name": "stdout",
     "output_type": "stream",
     "text": [
      "Avg Generator Loss: 13.4856, Avg Discriminator Loss: 0.1571\n"
     ]
    },
    {
     "name": "stderr",
     "output_type": "stream",
     "text": [
      "\n",
      "valuating: 100%|██████████| 686/686 [00:12<00:00, 56.40it/s]"
     ]
    },
    {
     "name": "stdout",
     "output_type": "stream",
     "text": [
      "Avg L1 Loss: 0.0292, Avg PSNR: 27.93, Avg SSIM: 0.8581\n",
      "Models saved for Batch Size: 4, Alpha: 300, Epoch: 40\n",
      "Epoch 41/50\n"
     ]
    },
    {
     "name": "stderr",
     "output_type": "stream",
     "text": [
      "\n",
      "raining: 100%|██████████| 2742/2742 [01:44<00:00, 26.25it/s]"
     ]
    },
    {
     "name": "stdout",
     "output_type": "stream",
     "text": [
      "Avg Generator Loss: 13.4464, Avg Discriminator Loss: 0.1586\n"
     ]
    },
    {
     "name": "stderr",
     "output_type": "stream",
     "text": [
      "\n",
      "valuating: 100%|██████████| 686/686 [00:12<00:00, 56.22it/s]"
     ]
    },
    {
     "name": "stdout",
     "output_type": "stream",
     "text": [
      "Avg L1 Loss: 0.0296, Avg PSNR: 27.75, Avg SSIM: 0.8560\n",
      "Epoch 42/50\n"
     ]
    },
    {
     "name": "stderr",
     "output_type": "stream",
     "text": [
      "\n",
      "raining: 100%|██████████| 2742/2742 [01:44<00:00, 26.19it/s]"
     ]
    },
    {
     "name": "stdout",
     "output_type": "stream",
     "text": [
      "Avg Generator Loss: 13.4795, Avg Discriminator Loss: 0.1528\n"
     ]
    },
    {
     "name": "stderr",
     "output_type": "stream",
     "text": [
      "\n",
      "valuating: 100%|██████████| 686/686 [00:12<00:00, 54.82it/s]"
     ]
    },
    {
     "name": "stdout",
     "output_type": "stream",
     "text": [
      "Avg L1 Loss: 0.0297, Avg PSNR: 27.66, Avg SSIM: 0.8495\n",
      "Epoch 43/50\n"
     ]
    },
    {
     "name": "stderr",
     "output_type": "stream",
     "text": [
      "\n",
      "raining: 100%|██████████| 2742/2742 [01:45<00:00, 26.10it/s]"
     ]
    },
    {
     "name": "stdout",
     "output_type": "stream",
     "text": [
      "Avg Generator Loss: 13.6532, Avg Discriminator Loss: 0.1438\n"
     ]
    },
    {
     "name": "stderr",
     "output_type": "stream",
     "text": [
      "\n",
      "valuating: 100%|██████████| 686/686 [00:12<00:00, 54.65it/s]"
     ]
    },
    {
     "name": "stdout",
     "output_type": "stream",
     "text": [
      "Avg L1 Loss: 0.0316, Avg PSNR: 27.53, Avg SSIM: 0.8566\n",
      "Epoch 44/50\n"
     ]
    },
    {
     "name": "stderr",
     "output_type": "stream",
     "text": [
      "\n",
      "raining: 100%|██████████| 2742/2742 [01:45<00:00, 26.07it/s]"
     ]
    },
    {
     "name": "stdout",
     "output_type": "stream",
     "text": [
      "Avg Generator Loss: 13.5731, Avg Discriminator Loss: 0.1502\n"
     ]
    },
    {
     "name": "stderr",
     "output_type": "stream",
     "text": [
      "\n",
      "valuating: 100%|██████████| 686/686 [00:12<00:00, 55.10it/s]"
     ]
    },
    {
     "name": "stdout",
     "output_type": "stream",
     "text": [
      "Avg L1 Loss: 0.0301, Avg PSNR: 27.66, Avg SSIM: 0.8505\n",
      "Epoch 45/50\n"
     ]
    },
    {
     "name": "stderr",
     "output_type": "stream",
     "text": [
      "\n",
      "raining: 100%|██████████| 2742/2742 [01:45<00:00, 25.96it/s]"
     ]
    },
    {
     "name": "stdout",
     "output_type": "stream",
     "text": [
      "Avg Generator Loss: 13.5605, Avg Discriminator Loss: 0.1448\n"
     ]
    },
    {
     "name": "stderr",
     "output_type": "stream",
     "text": [
      "\n",
      "valuating: 100%|██████████| 686/686 [00:12<00:00, 55.81it/s]"
     ]
    },
    {
     "name": "stdout",
     "output_type": "stream",
     "text": [
      "Avg L1 Loss: 0.0294, Avg PSNR: 27.84, Avg SSIM: 0.8588\n",
      "Models saved for Batch Size: 4, Alpha: 300, Epoch: 45\n",
      "Epoch 46/50\n"
     ]
    },
    {
     "name": "stderr",
     "output_type": "stream",
     "text": [
      "\n",
      "raining: 100%|██████████| 2742/2742 [01:45<00:00, 25.94it/s]"
     ]
    },
    {
     "name": "stdout",
     "output_type": "stream",
     "text": [
      "Avg Generator Loss: 13.5072, Avg Discriminator Loss: 0.1481\n"
     ]
    },
    {
     "name": "stderr",
     "output_type": "stream",
     "text": [
      "\n",
      "valuating: 100%|██████████| 686/686 [00:12<00:00, 53.71it/s]"
     ]
    },
    {
     "name": "stdout",
     "output_type": "stream",
     "text": [
      "Avg L1 Loss: 0.0291, Avg PSNR: 27.84, Avg SSIM: 0.8548\n",
      "Epoch 47/50\n"
     ]
    },
    {
     "name": "stderr",
     "output_type": "stream",
     "text": [
      "\n",
      "raining: 100%|██████████| 2742/2742 [01:45<00:00, 26.03it/s]"
     ]
    },
    {
     "name": "stdout",
     "output_type": "stream",
     "text": [
      "Avg Generator Loss: 13.6514, Avg Discriminator Loss: 0.1460\n"
     ]
    },
    {
     "name": "stderr",
     "output_type": "stream",
     "text": [
      "\n",
      "valuating: 100%|██████████| 686/686 [00:12<00:00, 55.57it/s]"
     ]
    },
    {
     "name": "stdout",
     "output_type": "stream",
     "text": [
      "Avg L1 Loss: 0.0296, Avg PSNR: 27.86, Avg SSIM: 0.8553\n",
      "Epoch 48/50\n"
     ]
    },
    {
     "name": "stderr",
     "output_type": "stream",
     "text": [
      "\n",
      "raining: 100%|██████████| 2742/2742 [01:44<00:00, 26.30it/s]"
     ]
    },
    {
     "name": "stdout",
     "output_type": "stream",
     "text": [
      "Avg Generator Loss: 13.5704, Avg Discriminator Loss: 0.1379\n"
     ]
    },
    {
     "name": "stderr",
     "output_type": "stream",
     "text": [
      "\n",
      "valuating: 100%|██████████| 686/686 [00:12<00:00, 54.71it/s]"
     ]
    },
    {
     "name": "stdout",
     "output_type": "stream",
     "text": [
      "Avg L1 Loss: 0.0283, Avg PSNR: 28.05, Avg SSIM: 0.8610\n",
      "Epoch 49/50\n"
     ]
    },
    {
     "name": "stderr",
     "output_type": "stream",
     "text": [
      "\n",
      "raining: 100%|██████████| 2742/2742 [01:44<00:00, 26.15it/s]"
     ]
    },
    {
     "name": "stdout",
     "output_type": "stream",
     "text": [
      "Avg Generator Loss: 13.4785, Avg Discriminator Loss: 0.1449\n"
     ]
    },
    {
     "name": "stderr",
     "output_type": "stream",
     "text": [
      "\n",
      "valuating: 100%|██████████| 686/686 [00:12<00:00, 54.81it/s]"
     ]
    },
    {
     "name": "stdout",
     "output_type": "stream",
     "text": [
      "Avg L1 Loss: 0.0292, Avg PSNR: 27.92, Avg SSIM: 0.8553\n",
      "Epoch 50/50\n"
     ]
    },
    {
     "name": "stderr",
     "output_type": "stream",
     "text": [
      "\n",
      "raining: 100%|██████████| 2742/2742 [01:44<00:00, 26.23it/s]"
     ]
    },
    {
     "name": "stdout",
     "output_type": "stream",
     "text": [
      "Avg Generator Loss: 13.5158, Avg Discriminator Loss: 0.1459\n"
     ]
    },
    {
     "name": "stderr",
     "output_type": "stream",
     "text": [
      "\n",
      "valuating: 100%|██████████| 686/686 [00:12<00:00, 55.62it/s]"
     ]
    },
    {
     "name": "stdout",
     "output_type": "stream",
     "text": [
      "Avg L1 Loss: 0.0291, Avg PSNR: 27.96, Avg SSIM: 0.8591\n",
      "Models saved for Batch Size: 4, Alpha: 300, Epoch: 50\n",
      "Testing Batch Size: 1, Alpha: 300\n",
      "Epoch 1/50\n"
     ]
    },
    {
     "name": "stderr",
     "output_type": "stream",
     "text": [
      "\n",
      "raining: 100%|██████████| 10968/10968 [04:19<00:00, 42.28it/s]"
     ]
    },
    {
     "name": "stdout",
     "output_type": "stream",
     "text": [
      "Avg Generator Loss: 24.2074, Avg Discriminator Loss: 0.1353\n"
     ]
    },
    {
     "name": "stderr",
     "output_type": "stream",
     "text": [
      "\n",
      "valuating: 100%|██████████| 2743/2743 [00:15<00:00, 176.13it/s]"
     ]
    },
    {
     "name": "stdout",
     "output_type": "stream",
     "text": [
      "Avg L1 Loss: 0.0611, Avg PSNR: 23.31, Avg SSIM: 0.7066\n",
      "Models saved for Batch Size: 1, Alpha: 300, Epoch: 1\n",
      "Epoch 2/50\n"
     ]
    },
    {
     "name": "stderr",
     "output_type": "stream",
     "text": [
      "\n",
      "raining: 100%|██████████| 10968/10968 [04:16<00:00, 42.71it/s]"
     ]
    },
    {
     "name": "stdout",
     "output_type": "stream",
     "text": [
      "Avg Generator Loss: 19.9413, Avg Discriminator Loss: 0.1303\n"
     ]
    },
    {
     "name": "stderr",
     "output_type": "stream",
     "text": [
      "\n",
      "valuating: 100%|██████████| 2743/2743 [00:16<00:00, 169.89it/s]"
     ]
    },
    {
     "name": "stdout",
     "output_type": "stream",
     "text": [
      "Avg L1 Loss: 0.0576, Avg PSNR: 23.97, Avg SSIM: 0.7340\n",
      "Epoch 3/50\n"
     ]
    },
    {
     "name": "stderr",
     "output_type": "stream",
     "text": [
      "\n",
      "raining: 100%|██████████| 10968/10968 [04:17<00:00, 42.59it/s]"
     ]
    },
    {
     "name": "stdout",
     "output_type": "stream",
     "text": [
      "Avg Generator Loss: 18.9501, Avg Discriminator Loss: 0.1379\n"
     ]
    },
    {
     "name": "stderr",
     "output_type": "stream",
     "text": [
      "\n",
      "valuating: 100%|██████████| 2743/2743 [00:16<00:00, 171.26it/s]"
     ]
    },
    {
     "name": "stdout",
     "output_type": "stream",
     "text": [
      "Avg L1 Loss: 0.0621, Avg PSNR: 23.00, Avg SSIM: 0.7424\n",
      "Epoch 4/50\n"
     ]
    },
    {
     "name": "stderr",
     "output_type": "stream",
     "text": [
      "\n",
      "raining: 100%|██████████| 10968/10968 [04:18<00:00, 42.48it/s]"
     ]
    },
    {
     "name": "stdout",
     "output_type": "stream",
     "text": [
      "Avg Generator Loss: 18.0730, Avg Discriminator Loss: 0.1442\n"
     ]
    },
    {
     "name": "stderr",
     "output_type": "stream",
     "text": [
      "\n",
      "valuating: 100%|██████████| 2743/2743 [00:15<00:00, 175.48it/s]"
     ]
    },
    {
     "name": "stdout",
     "output_type": "stream",
     "text": [
      "Avg L1 Loss: 0.0553, Avg PSNR: 24.51, Avg SSIM: 0.7554\n",
      "Epoch 5/50\n"
     ]
    },
    {
     "name": "stderr",
     "output_type": "stream",
     "text": [
      "\n",
      "raining: 100%|██████████| 10968/10968 [04:22<00:00, 41.86it/s]"
     ]
    },
    {
     "name": "stdout",
     "output_type": "stream",
     "text": [
      "Avg Generator Loss: 17.1599, Avg Discriminator Loss: 0.1543\n"
     ]
    },
    {
     "name": "stderr",
     "output_type": "stream",
     "text": [
      "\n",
      "valuating: 100%|██████████| 2743/2743 [00:15<00:00, 172.30it/s]"
     ]
    },
    {
     "name": "stdout",
     "output_type": "stream",
     "text": [
      "Avg L1 Loss: 0.0551, Avg PSNR: 24.53, Avg SSIM: 0.7581\n",
      "Models saved for Batch Size: 1, Alpha: 300, Epoch: 5\n",
      "Epoch 6/50\n"
     ]
    },
    {
     "name": "stderr",
     "output_type": "stream",
     "text": [
      "\n",
      "raining: 100%|██████████| 10968/10968 [04:16<00:00, 42.73it/s]"
     ]
    },
    {
     "name": "stdout",
     "output_type": "stream",
     "text": [
      "Avg Generator Loss: 16.3500, Avg Discriminator Loss: 0.1703\n"
     ]
    },
    {
     "name": "stderr",
     "output_type": "stream",
     "text": [
      "\n",
      "valuating: 100%|██████████| 2743/2743 [00:15<00:00, 174.43it/s]"
     ]
    },
    {
     "name": "stdout",
     "output_type": "stream",
     "text": [
      "Avg L1 Loss: 0.0565, Avg PSNR: 24.61, Avg SSIM: 0.7501\n",
      "Epoch 7/50\n"
     ]
    },
    {
     "name": "stderr",
     "output_type": "stream",
     "text": [
      "Training:  11%|█         | 1185/10968 [00:29<03:48, 42.83it/s]"
     ]
    }
   ],
   "source": [
    "import os\n",
    "from itertools import product\n",
    "from torch.utils.data import DataLoader\n",
    "from torch.optim import AdamW\n",
    "import torch\n",
    "\n",
    "batch_sizes = [32, 16, 8, 4, 1]\n",
    "alpha_values = [300]\n",
    "epochs = 50\n",
    "save_epochs = [1, 5, 10, 15, 20, 25, 30, 35, 40, 45, 50]\n",
    "\n",
    "base_result_dir = \"result\"\n",
    "\n",
    "if not os.path.exists(base_result_dir):\n",
    "    os.makedirs(base_result_dir)\n",
    "\n",
    "for batch_size, alpha in product(batch_sizes, alpha_values):\n",
    "    print(f\"Testing Batch Size: {batch_size}, Alpha: {alpha}\")\n",
    "    \n",
    "    batch_alpha_dir = os.path.join(base_result_dir, f\"bs{batch_size}_alpha{alpha}\")\n",
    "    if not os.path.exists(batch_alpha_dir):\n",
    "        os.makedirs(batch_alpha_dir)\n",
    "    \n",
    "    log_file = os.path.join(batch_alpha_dir, \"gridsearch_log.txt\")\n",
    "\n",
    "    with open(log_file, \"w\") as f:\n",
    "        f.write(\"Batch Size, Alpha, Epoch, Avg Gen Loss, Avg Disc Loss, Avg L1 Loss, Avg PSNR, Avg SSIM\\n\")\n",
    "    \n",
    "    train_loader = DataLoader(train_dataset, batch_size=batch_size, shuffle=True)\n",
    "    test_loader = DataLoader(test_dataset, batch_size=batch_size, shuffle=False)\n",
    "    \n",
    "    generator = UnetGenerator().to(device)\n",
    "    discriminator = ConditionalDiscriminator().to(device)\n",
    "    \n",
    "    gen_loss_fn = GeneratorLoss(alpha=alpha).to(device)\n",
    "    disc_loss_fn = DiscriminatorLoss().to(device)\n",
    "    \n",
    "    optimizer_G = AdamW(generator.parameters(), lr=learning_rate, betas=(0.9, 0.999))\n",
    "    optimizer_D = AdamW(discriminator.parameters(), lr=learning_rate, betas=(0.9, 0.999))\n",
    "    \n",
    "    for epoch in range(1, epochs + 1):\n",
    "        print(f\"Epoch {epoch}/{epochs}\")\n",
    "\n",
    "        avg_gen_loss, avg_disc_loss = train_model(generator, discriminator, train_loader, gen_loss_fn, disc_loss_fn, optimizer_G, optimizer_D, device)\n",
    "\n",
    "        avg_l1_loss, avg_psnr, avg_ssim = evaluate_model(generator, test_loader, device)\n",
    " \n",
    "        with open(log_file, \"a\") as f:\n",
    "            f.write(f\"{batch_size}, {alpha}, {epoch}, {avg_gen_loss:.4f}, {avg_disc_loss:.4f}, {avg_l1_loss:.4f}, {avg_psnr:.4f}, {avg_ssim:.4f}\\n\")\n",
    "\n",
    "        if epoch in save_epochs:\n",
    "            gen_save_path = os.path.join(batch_alpha_dir, f\"generator_bs{batch_size}_alpha{alpha}_epoch{epoch}.pth\")\n",
    "            disc_save_path = os.path.join(batch_alpha_dir, f\"discriminator_bs{batch_size}_alpha{alpha}_epoch{epoch}.pth\")\n",
    "            torch.save(generator.state_dict(), gen_save_path)\n",
    "            torch.save(discriminator.state_dict(), disc_save_path)\n",
    "            print(f\"Models saved for Batch Size: {batch_size}, Alpha: {alpha}, Epoch: {epoch}\")"
   ]
  }
 ],
 "metadata": {
  "kaggle": {
   "accelerator": "gpu",
   "dataSources": [
    {
     "datasetId": 3777739,
     "sourceId": 6534542,
     "sourceType": "datasetVersion"
    },
    {
     "datasetId": 3783293,
     "sourceId": 6545483,
     "sourceType": "datasetVersion"
    },
    {
     "datasetId": 3778943,
     "sourceId": 6555376,
     "sourceType": "datasetVersion"
    },
    {
     "datasetId": 3967758,
     "sourceId": 6908743,
     "sourceType": "datasetVersion"
    },
    {
     "datasetId": 3971035,
     "isSourceIdPinned": true,
     "sourceId": 6958994,
     "sourceType": "datasetVersion"
    }
   ],
   "dockerImageVersionId": 30370,
   "isGpuEnabled": true,
   "isInternetEnabled": true,
   "language": "python",
   "sourceType": "notebook"
  },
  "kernelspec": {
   "display_name": "Python 3 (ipykernel)",
   "language": "python",
   "name": "python3"
  },
  "language_info": {
   "codemirror_mode": {
    "name": "ipython",
    "version": 3
   },
   "file_extension": ".py",
   "mimetype": "text/x-python",
   "name": "python",
   "nbconvert_exporter": "python",
   "pygments_lexer": "ipython3",
   "version": "3.11.10"
  }
 },
 "nbformat": 4,
 "nbformat_minor": 4
}
